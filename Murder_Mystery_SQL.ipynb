{
 "cells": [
  {
   "cell_type": "markdown",
   "id": "0f980649",
   "metadata": {
    "papermill": {
     "duration": 0.006048,
     "end_time": "2023-03-23T02:02:33.166782",
     "exception": false,
     "start_time": "2023-03-23T02:02:33.160734",
     "status": "completed"
    },
    "tags": []
   },
   "source": [
    "# SQL Murder Mystery\n",
    "## Can you find out whodunnit?"
   ]
  },
  {
   "cell_type": "markdown",
   "id": "5cf81fd2",
   "metadata": {
    "papermill": {
     "duration": 0.004861,
     "end_time": "2023-03-23T02:02:33.177222",
     "exception": false,
     "start_time": "2023-03-23T02:02:33.172361",
     "status": "completed"
    },
    "tags": []
   },
   "source": [
    "![SQL Murder Mystery](https://mystery.knightlab.com/174092-clue-illustration.png)"
   ]
  },
  {
   "cell_type": "markdown",
   "id": "9976be79",
   "metadata": {
    "papermill": {
     "duration": 0.004961,
     "end_time": "2023-03-23T02:02:33.187497",
     "exception": false,
     "start_time": "2023-03-23T02:02:33.182536",
     "status": "completed"
    },
    "tags": []
   },
   "source": [
    "## There's been a Murder in SQL City! The SQL Murder Mystery is designed to be both a self-directed lesson to learn SQL concepts and commands and a fun game for experienced SQL users to solve an intriguing crime."
   ]
  },
  {
   "cell_type": "code",
   "execution_count": 1,
   "id": "23da1b94",
   "metadata": {
    "execution": {
     "iopub.execute_input": "2023-03-23T02:02:33.199739Z",
     "iopub.status.busy": "2023-03-23T02:02:33.199374Z",
     "iopub.status.idle": "2023-03-23T02:02:33.207944Z",
     "shell.execute_reply": "2023-03-23T02:02:33.206925Z"
    },
    "papermill": {
     "duration": 0.018171,
     "end_time": "2023-03-23T02:02:33.210883",
     "exception": false,
     "start_time": "2023-03-23T02:02:33.192712",
     "status": "completed"
    },
    "tags": []
   },
   "outputs": [],
   "source": [
    "import sqlite3\n",
    "import pandas as pd"
   ]
  },
  {
   "cell_type": "code",
   "execution_count": 2,
   "id": "838cafad",
   "metadata": {
    "execution": {
     "iopub.execute_input": "2023-03-23T02:02:33.224515Z",
     "iopub.status.busy": "2023-03-23T02:02:33.224112Z",
     "iopub.status.idle": "2023-03-23T02:02:33.228339Z",
     "shell.execute_reply": "2023-03-23T02:02:33.227426Z"
    },
    "papermill": {
     "duration": 0.013879,
     "end_time": "2023-03-23T02:02:33.230572",
     "exception": false,
     "start_time": "2023-03-23T02:02:33.216693",
     "status": "completed"
    },
    "tags": []
   },
   "outputs": [],
   "source": [
    "pd.set_option('display.max_colwidth', None)"
   ]
  },
  {
   "cell_type": "code",
   "execution_count": 3,
   "id": "5ed7d378",
   "metadata": {
    "execution": {
     "iopub.execute_input": "2023-03-23T02:02:33.243514Z",
     "iopub.status.busy": "2023-03-23T02:02:33.243127Z",
     "iopub.status.idle": "2023-03-23T02:02:33.259283Z",
     "shell.execute_reply": "2023-03-23T02:02:33.258501Z"
    },
    "papermill": {
     "duration": 0.025433,
     "end_time": "2023-03-23T02:02:33.261612",
     "exception": false,
     "start_time": "2023-03-23T02:02:33.236179",
     "status": "completed"
    },
    "tags": []
   },
   "outputs": [],
   "source": [
    "con = sqlite3.connect(\"../input/sql-murder-mystery-database/sql-murder-mystery.db\")"
   ]
  },
  {
   "cell_type": "code",
   "execution_count": 4,
   "id": "84194f5f",
   "metadata": {
    "execution": {
     "iopub.execute_input": "2023-03-23T02:02:33.274213Z",
     "iopub.status.busy": "2023-03-23T02:02:33.273867Z",
     "iopub.status.idle": "2023-03-23T02:02:33.277990Z",
     "shell.execute_reply": "2023-03-23T02:02:33.277094Z"
    },
    "papermill": {
     "duration": 0.012683,
     "end_time": "2023-03-23T02:02:33.279785",
     "exception": false,
     "start_time": "2023-03-23T02:02:33.267102",
     "status": "completed"
    },
    "tags": []
   },
   "outputs": [],
   "source": [
    "cur = con.cursor()"
   ]
  },
  {
   "cell_type": "code",
   "execution_count": 5,
   "id": "26738165",
   "metadata": {
    "execution": {
     "iopub.execute_input": "2023-03-23T02:02:33.292314Z",
     "iopub.status.busy": "2023-03-23T02:02:33.291676Z",
     "iopub.status.idle": "2023-03-23T02:02:33.333425Z",
     "shell.execute_reply": "2023-03-23T02:02:33.331791Z"
    },
    "papermill": {
     "duration": 0.050476,
     "end_time": "2023-03-23T02:02:33.335627",
     "exception": false,
     "start_time": "2023-03-23T02:02:33.285151",
     "status": "completed"
    },
    "tags": []
   },
   "outputs": [
    {
     "data": {
      "text/html": [
       "<div>\n",
       "<style scoped>\n",
       "    .dataframe tbody tr th:only-of-type {\n",
       "        vertical-align: middle;\n",
       "    }\n",
       "\n",
       "    .dataframe tbody tr th {\n",
       "        vertical-align: top;\n",
       "    }\n",
       "\n",
       "    .dataframe thead th {\n",
       "        text-align: right;\n",
       "    }\n",
       "</style>\n",
       "<table border=\"1\" class=\"dataframe\">\n",
       "  <thead>\n",
       "    <tr style=\"text-align: right;\">\n",
       "      <th></th>\n",
       "      <th>type</th>\n",
       "      <th>name</th>\n",
       "      <th>tbl_name</th>\n",
       "      <th>rootpage</th>\n",
       "      <th>sql</th>\n",
       "    </tr>\n",
       "  </thead>\n",
       "  <tbody>\n",
       "    <tr>\n",
       "      <th>0</th>\n",
       "      <td>table</td>\n",
       "      <td>crime_scene_report</td>\n",
       "      <td>crime_scene_report</td>\n",
       "      <td>2</td>\n",
       "      <td>CREATE TABLE crime_scene_report (\\n        date integer,\\n        type text,\\n        description text,\\n        city text\\n    )</td>\n",
       "    </tr>\n",
       "    <tr>\n",
       "      <th>1</th>\n",
       "      <td>table</td>\n",
       "      <td>drivers_license</td>\n",
       "      <td>drivers_license</td>\n",
       "      <td>3</td>\n",
       "      <td>CREATE TABLE drivers_license (\\n        id integer PRIMARY KEY,\\n        age integer,\\n        height integer,\\n        eye_color text,\\n        hair_color text,\\n        gender text,\\n        plate_number text,\\n        car_make text,\\n        car_model text\\n    )</td>\n",
       "    </tr>\n",
       "    <tr>\n",
       "      <th>2</th>\n",
       "      <td>table</td>\n",
       "      <td>person</td>\n",
       "      <td>person</td>\n",
       "      <td>4</td>\n",
       "      <td>CREATE TABLE person (\\n        id integer PRIMARY KEY,\\n        name text,\\n        license_id integer,\\n        address_number integer,\\n        address_street_name text,\\n        ssn integer,\\n        FOREIGN KEY (license_id) REFERENCES drivers_license(id)\\n    )</td>\n",
       "    </tr>\n",
       "    <tr>\n",
       "      <th>3</th>\n",
       "      <td>table</td>\n",
       "      <td>facebook_event_checkin</td>\n",
       "      <td>facebook_event_checkin</td>\n",
       "      <td>5</td>\n",
       "      <td>CREATE TABLE facebook_event_checkin (\\n        person_id integer,\\n        event_id integer,\\n        event_name text,\\n        date integer,\\n        FOREIGN KEY (person_id) REFERENCES person(id)\\n    )</td>\n",
       "    </tr>\n",
       "    <tr>\n",
       "      <th>4</th>\n",
       "      <td>table</td>\n",
       "      <td>interview</td>\n",
       "      <td>interview</td>\n",
       "      <td>6</td>\n",
       "      <td>CREATE TABLE interview (\\n        person_id integer,\\n        transcript text,\\n        FOREIGN KEY (person_id) REFERENCES person(id)\\n    )</td>\n",
       "    </tr>\n",
       "    <tr>\n",
       "      <th>5</th>\n",
       "      <td>table</td>\n",
       "      <td>get_fit_now_member</td>\n",
       "      <td>get_fit_now_member</td>\n",
       "      <td>7</td>\n",
       "      <td>CREATE TABLE get_fit_now_member (\\n        id text PRIMARY KEY,\\n        person_id integer,\\n        name text,\\n        membership_start_date integer,\\n        membership_status text,\\n        FOREIGN KEY (person_id) REFERENCES person(id)\\n    )</td>\n",
       "    </tr>\n",
       "    <tr>\n",
       "      <th>6</th>\n",
       "      <td>table</td>\n",
       "      <td>get_fit_now_check_in</td>\n",
       "      <td>get_fit_now_check_in</td>\n",
       "      <td>9</td>\n",
       "      <td>CREATE TABLE get_fit_now_check_in (\\n        membership_id text,\\n        check_in_date integer,\\n        check_in_time integer,\\n        check_out_time integer,\\n        FOREIGN KEY (membership_id) REFERENCES get_fit_now_member(id)\\n    )</td>\n",
       "    </tr>\n",
       "    <tr>\n",
       "      <th>7</th>\n",
       "      <td>table</td>\n",
       "      <td>income</td>\n",
       "      <td>income</td>\n",
       "      <td>10</td>\n",
       "      <td>CREATE TABLE income (\\n        ssn integer PRIMARY KEY,\\n        annual_income integer\\n    )</td>\n",
       "    </tr>\n",
       "    <tr>\n",
       "      <th>8</th>\n",
       "      <td>table</td>\n",
       "      <td>solution</td>\n",
       "      <td>solution</td>\n",
       "      <td>11</td>\n",
       "      <td>CREATE TABLE solution (\\n        user integer,\\n        value text\\n    )</td>\n",
       "    </tr>\n",
       "  </tbody>\n",
       "</table>\n",
       "</div>"
      ],
      "text/plain": [
       "    type                    name                tbl_name  rootpage  \\\n",
       "0  table      crime_scene_report      crime_scene_report         2   \n",
       "1  table         drivers_license         drivers_license         3   \n",
       "2  table                  person                  person         4   \n",
       "3  table  facebook_event_checkin  facebook_event_checkin         5   \n",
       "4  table               interview               interview         6   \n",
       "5  table      get_fit_now_member      get_fit_now_member         7   \n",
       "6  table    get_fit_now_check_in    get_fit_now_check_in         9   \n",
       "7  table                  income                  income        10   \n",
       "8  table                solution                solution        11   \n",
       "\n",
       "                                                                                                                                                                                                                                                                          sql  \n",
       "0                                                                                                                                           CREATE TABLE crime_scene_report (\\n        date integer,\\n        type text,\\n        description text,\\n        city text\\n    )  \n",
       "1  CREATE TABLE drivers_license (\\n        id integer PRIMARY KEY,\\n        age integer,\\n        height integer,\\n        eye_color text,\\n        hair_color text,\\n        gender text,\\n        plate_number text,\\n        car_make text,\\n        car_model text\\n    )  \n",
       "2   CREATE TABLE person (\\n        id integer PRIMARY KEY,\\n        name text,\\n        license_id integer,\\n        address_number integer,\\n        address_street_name text,\\n        ssn integer,\\n        FOREIGN KEY (license_id) REFERENCES drivers_license(id)\\n    )  \n",
       "3                                                                 CREATE TABLE facebook_event_checkin (\\n        person_id integer,\\n        event_id integer,\\n        event_name text,\\n        date integer,\\n        FOREIGN KEY (person_id) REFERENCES person(id)\\n    )  \n",
       "4                                                                                                                                CREATE TABLE interview (\\n        person_id integer,\\n        transcript text,\\n        FOREIGN KEY (person_id) REFERENCES person(id)\\n    )  \n",
       "5                      CREATE TABLE get_fit_now_member (\\n        id text PRIMARY KEY,\\n        person_id integer,\\n        name text,\\n        membership_start_date integer,\\n        membership_status text,\\n        FOREIGN KEY (person_id) REFERENCES person(id)\\n    )  \n",
       "6                             CREATE TABLE get_fit_now_check_in (\\n        membership_id text,\\n        check_in_date integer,\\n        check_in_time integer,\\n        check_out_time integer,\\n        FOREIGN KEY (membership_id) REFERENCES get_fit_now_member(id)\\n    )  \n",
       "7                                                                                                                                                                               CREATE TABLE income (\\n        ssn integer PRIMARY KEY,\\n        annual_income integer\\n    )  \n",
       "8                                                                                                                                                                                                   CREATE TABLE solution (\\n        user integer,\\n        value text\\n    )  "
      ]
     },
     "execution_count": 5,
     "metadata": {},
     "output_type": "execute_result"
    }
   ],
   "source": [
    "tbl_names = pd.read_sql_query(\"SELECT * from sqlite_master WHERE type='table'\", con)\n",
    "tbl_names"
   ]
  },
  {
   "cell_type": "code",
   "execution_count": 6,
   "id": "318ab323",
   "metadata": {
    "execution": {
     "iopub.execute_input": "2023-03-23T02:02:33.349633Z",
     "iopub.status.busy": "2023-03-23T02:02:33.348531Z",
     "iopub.status.idle": "2023-03-23T02:02:33.369332Z",
     "shell.execute_reply": "2023-03-23T02:02:33.368348Z"
    },
    "papermill": {
     "duration": 0.029956,
     "end_time": "2023-03-23T02:02:33.371531",
     "exception": false,
     "start_time": "2023-03-23T02:02:33.341575",
     "status": "completed"
    },
    "tags": []
   },
   "outputs": [
    {
     "data": {
      "text/html": [
       "<div>\n",
       "<style scoped>\n",
       "    .dataframe tbody tr th:only-of-type {\n",
       "        vertical-align: middle;\n",
       "    }\n",
       "\n",
       "    .dataframe tbody tr th {\n",
       "        vertical-align: top;\n",
       "    }\n",
       "\n",
       "    .dataframe thead th {\n",
       "        text-align: right;\n",
       "    }\n",
       "</style>\n",
       "<table border=\"1\" class=\"dataframe\">\n",
       "  <thead>\n",
       "    <tr style=\"text-align: right;\">\n",
       "      <th></th>\n",
       "      <th>date</th>\n",
       "      <th>type</th>\n",
       "      <th>description</th>\n",
       "      <th>city</th>\n",
       "    </tr>\n",
       "  </thead>\n",
       "  <tbody>\n",
       "    <tr>\n",
       "      <th>0</th>\n",
       "      <td>20180115</td>\n",
       "      <td>murder</td>\n",
       "      <td>Security footage shows that there were 2 witnesses. The first witness lives at the last house on \"Northwestern Dr\". The second witness, named Annabel, lives somewhere on \"Franklin Ave\".</td>\n",
       "      <td>SQL City</td>\n",
       "    </tr>\n",
       "  </tbody>\n",
       "</table>\n",
       "</div>"
      ],
      "text/plain": [
       "       date    type  \\\n",
       "0  20180115  murder   \n",
       "\n",
       "                                                                                                                                                                                 description  \\\n",
       "0  Security footage shows that there were 2 witnesses. The first witness lives at the last house on \"Northwestern Dr\". The second witness, named Annabel, lives somewhere on \"Franklin Ave\".   \n",
       "\n",
       "       city  \n",
       "0  SQL City  "
      ]
     },
     "execution_count": 6,
     "metadata": {},
     "output_type": "execute_result"
    }
   ],
   "source": [
    "report = pd.read_sql_query(\"SELECT * from crime_scene_report WHERE date = 20180115 AND type = 'murder' and city = 'SQL City'\", con)\n",
    "report"
   ]
  },
  {
   "cell_type": "code",
   "execution_count": 7,
   "id": "d2594fd3",
   "metadata": {
    "execution": {
     "iopub.execute_input": "2023-03-23T02:02:33.384955Z",
     "iopub.status.busy": "2023-03-23T02:02:33.384567Z",
     "iopub.status.idle": "2023-03-23T02:02:33.571801Z",
     "shell.execute_reply": "2023-03-23T02:02:33.570777Z"
    },
    "papermill": {
     "duration": 0.196681,
     "end_time": "2023-03-23T02:02:33.574138",
     "exception": false,
     "start_time": "2023-03-23T02:02:33.377457",
     "status": "completed"
    },
    "tags": []
   },
   "outputs": [
    {
     "data": {
      "text/html": [
       "<div>\n",
       "<style scoped>\n",
       "    .dataframe tbody tr th:only-of-type {\n",
       "        vertical-align: middle;\n",
       "    }\n",
       "\n",
       "    .dataframe tbody tr th {\n",
       "        vertical-align: top;\n",
       "    }\n",
       "\n",
       "    .dataframe thead th {\n",
       "        text-align: right;\n",
       "    }\n",
       "</style>\n",
       "<table border=\"1\" class=\"dataframe\">\n",
       "  <thead>\n",
       "    <tr style=\"text-align: right;\">\n",
       "      <th></th>\n",
       "      <th>id</th>\n",
       "      <th>name</th>\n",
       "      <th>license_id</th>\n",
       "      <th>address_number</th>\n",
       "      <th>address_street_name</th>\n",
       "      <th>ssn</th>\n",
       "    </tr>\n",
       "  </thead>\n",
       "  <tbody>\n",
       "    <tr>\n",
       "      <th>0</th>\n",
       "      <td>16371</td>\n",
       "      <td>Annabel Miller</td>\n",
       "      <td>490173</td>\n",
       "      <td>103</td>\n",
       "      <td>Franklin Ave</td>\n",
       "      <td>318771143</td>\n",
       "    </tr>\n",
       "  </tbody>\n",
       "</table>\n",
       "</div>"
      ],
      "text/plain": [
       "      id            name  license_id  address_number address_street_name  \\\n",
       "0  16371  Annabel Miller      490173             103        Franklin Ave   \n",
       "\n",
       "         ssn  \n",
       "0  318771143  "
      ]
     },
     "execution_count": 7,
     "metadata": {},
     "output_type": "execute_result"
    }
   ],
   "source": [
    "pd.read_sql_query(\"SELECT * FROM person WHERE address_street_name = 'Franklin Ave' AND  name LIKE 'Annabel%'\", con)"
   ]
  },
  {
   "cell_type": "code",
   "execution_count": 8,
   "id": "0f57e3f7",
   "metadata": {
    "execution": {
     "iopub.execute_input": "2023-03-23T02:02:33.588084Z",
     "iopub.status.busy": "2023-03-23T02:02:33.587304Z",
     "iopub.status.idle": "2023-03-23T02:02:33.690888Z",
     "shell.execute_reply": "2023-03-23T02:02:33.689823Z"
    },
    "papermill": {
     "duration": 0.113173,
     "end_time": "2023-03-23T02:02:33.693369",
     "exception": false,
     "start_time": "2023-03-23T02:02:33.580196",
     "status": "completed"
    },
    "tags": []
   },
   "outputs": [
    {
     "data": {
      "text/html": [
       "<div>\n",
       "<style scoped>\n",
       "    .dataframe tbody tr th:only-of-type {\n",
       "        vertical-align: middle;\n",
       "    }\n",
       "\n",
       "    .dataframe tbody tr th {\n",
       "        vertical-align: top;\n",
       "    }\n",
       "\n",
       "    .dataframe thead th {\n",
       "        text-align: right;\n",
       "    }\n",
       "</style>\n",
       "<table border=\"1\" class=\"dataframe\">\n",
       "  <thead>\n",
       "    <tr style=\"text-align: right;\">\n",
       "      <th></th>\n",
       "      <th>person_id</th>\n",
       "      <th>transcript</th>\n",
       "    </tr>\n",
       "  </thead>\n",
       "  <tbody>\n",
       "    <tr>\n",
       "      <th>0</th>\n",
       "      <td>16371</td>\n",
       "      <td>I saw the murder happen, and I recognized the killer from my gym when I was working out last week on January the 9th.</td>\n",
       "    </tr>\n",
       "  </tbody>\n",
       "</table>\n",
       "</div>"
      ],
      "text/plain": [
       "   person_id  \\\n",
       "0      16371   \n",
       "\n",
       "                                                                                                              transcript  \n",
       "0  I saw the murder happen, and I recognized the killer from my gym when I was working out last week on January the 9th.  "
      ]
     },
     "execution_count": 8,
     "metadata": {},
     "output_type": "execute_result"
    }
   ],
   "source": [
    "pd.read_sql_query(\"SELECT * FROM interview WHERE person_id = 16371\", con)"
   ]
  },
  {
   "cell_type": "code",
   "execution_count": 9,
   "id": "308f3473",
   "metadata": {
    "execution": {
     "iopub.execute_input": "2023-03-23T02:02:33.708447Z",
     "iopub.status.busy": "2023-03-23T02:02:33.707785Z",
     "iopub.status.idle": "2023-03-23T02:02:33.745450Z",
     "shell.execute_reply": "2023-03-23T02:02:33.744624Z"
    },
    "papermill": {
     "duration": 0.047629,
     "end_time": "2023-03-23T02:02:33.747204",
     "exception": false,
     "start_time": "2023-03-23T02:02:33.699575",
     "status": "completed"
    },
    "tags": []
   },
   "outputs": [
    {
     "data": {
      "text/html": [
       "<div>\n",
       "<style scoped>\n",
       "    .dataframe tbody tr th:only-of-type {\n",
       "        vertical-align: middle;\n",
       "    }\n",
       "\n",
       "    .dataframe tbody tr th {\n",
       "        vertical-align: top;\n",
       "    }\n",
       "\n",
       "    .dataframe thead th {\n",
       "        text-align: right;\n",
       "    }\n",
       "</style>\n",
       "<table border=\"1\" class=\"dataframe\">\n",
       "  <thead>\n",
       "    <tr style=\"text-align: right;\">\n",
       "      <th></th>\n",
       "      <th>membership_id</th>\n",
       "      <th>check_in_date</th>\n",
       "      <th>check_in_time</th>\n",
       "      <th>check_out_time</th>\n",
       "    </tr>\n",
       "  </thead>\n",
       "  <tbody>\n",
       "    <tr>\n",
       "      <th>0</th>\n",
       "      <td>X0643</td>\n",
       "      <td>20180109</td>\n",
       "      <td>957</td>\n",
       "      <td>1164</td>\n",
       "    </tr>\n",
       "    <tr>\n",
       "      <th>1</th>\n",
       "      <td>UK1F2</td>\n",
       "      <td>20180109</td>\n",
       "      <td>344</td>\n",
       "      <td>518</td>\n",
       "    </tr>\n",
       "    <tr>\n",
       "      <th>2</th>\n",
       "      <td>XTE42</td>\n",
       "      <td>20180109</td>\n",
       "      <td>486</td>\n",
       "      <td>1124</td>\n",
       "    </tr>\n",
       "    <tr>\n",
       "      <th>3</th>\n",
       "      <td>1AE2H</td>\n",
       "      <td>20180109</td>\n",
       "      <td>461</td>\n",
       "      <td>944</td>\n",
       "    </tr>\n",
       "    <tr>\n",
       "      <th>4</th>\n",
       "      <td>6LSTG</td>\n",
       "      <td>20180109</td>\n",
       "      <td>399</td>\n",
       "      <td>515</td>\n",
       "    </tr>\n",
       "    <tr>\n",
       "      <th>5</th>\n",
       "      <td>7MWHJ</td>\n",
       "      <td>20180109</td>\n",
       "      <td>273</td>\n",
       "      <td>885</td>\n",
       "    </tr>\n",
       "    <tr>\n",
       "      <th>6</th>\n",
       "      <td>GE5Q8</td>\n",
       "      <td>20180109</td>\n",
       "      <td>367</td>\n",
       "      <td>959</td>\n",
       "    </tr>\n",
       "    <tr>\n",
       "      <th>7</th>\n",
       "      <td>48Z7A</td>\n",
       "      <td>20180109</td>\n",
       "      <td>1600</td>\n",
       "      <td>1730</td>\n",
       "    </tr>\n",
       "    <tr>\n",
       "      <th>8</th>\n",
       "      <td>48Z55</td>\n",
       "      <td>20180109</td>\n",
       "      <td>1530</td>\n",
       "      <td>1700</td>\n",
       "    </tr>\n",
       "    <tr>\n",
       "      <th>9</th>\n",
       "      <td>90081</td>\n",
       "      <td>20180109</td>\n",
       "      <td>1600</td>\n",
       "      <td>1700</td>\n",
       "    </tr>\n",
       "  </tbody>\n",
       "</table>\n",
       "</div>"
      ],
      "text/plain": [
       "  membership_id  check_in_date  check_in_time  check_out_time\n",
       "0         X0643       20180109            957            1164\n",
       "1         UK1F2       20180109            344             518\n",
       "2         XTE42       20180109            486            1124\n",
       "3         1AE2H       20180109            461             944\n",
       "4         6LSTG       20180109            399             515\n",
       "5         7MWHJ       20180109            273             885\n",
       "6         GE5Q8       20180109            367             959\n",
       "7         48Z7A       20180109           1600            1730\n",
       "8         48Z55       20180109           1530            1700\n",
       "9         90081       20180109           1600            1700"
      ]
     },
     "execution_count": 9,
     "metadata": {},
     "output_type": "execute_result"
    }
   ],
   "source": [
    "pd.read_sql_query(\"SELECT * FROM get_fit_now_check_in WHERE check_in_date = 20180109\", con)"
   ]
  },
  {
   "cell_type": "markdown",
   "id": "ddc4e052",
   "metadata": {
    "papermill": {
     "duration": 0.006057,
     "end_time": "2023-03-23T02:02:33.759651",
     "exception": false,
     "start_time": "2023-03-23T02:02:33.753594",
     "status": "completed"
    },
    "tags": []
   },
   "source": [
    "### There are too many to try to find out individually. Will pursue the other witness."
   ]
  },
  {
   "cell_type": "code",
   "execution_count": 10,
   "id": "3c324090",
   "metadata": {
    "execution": {
     "iopub.execute_input": "2023-03-23T02:02:33.774388Z",
     "iopub.status.busy": "2023-03-23T02:02:33.773143Z",
     "iopub.status.idle": "2023-03-23T02:02:33.787887Z",
     "shell.execute_reply": "2023-03-23T02:02:33.786944Z"
    },
    "papermill": {
     "duration": 0.023977,
     "end_time": "2023-03-23T02:02:33.789674",
     "exception": false,
     "start_time": "2023-03-23T02:02:33.765697",
     "status": "completed"
    },
    "tags": []
   },
   "outputs": [
    {
     "data": {
      "text/html": [
       "<div>\n",
       "<style scoped>\n",
       "    .dataframe tbody tr th:only-of-type {\n",
       "        vertical-align: middle;\n",
       "    }\n",
       "\n",
       "    .dataframe tbody tr th {\n",
       "        vertical-align: top;\n",
       "    }\n",
       "\n",
       "    .dataframe thead th {\n",
       "        text-align: right;\n",
       "    }\n",
       "</style>\n",
       "<table border=\"1\" class=\"dataframe\">\n",
       "  <thead>\n",
       "    <tr style=\"text-align: right;\">\n",
       "      <th></th>\n",
       "      <th>id</th>\n",
       "      <th>name</th>\n",
       "      <th>license_id</th>\n",
       "      <th>address_number</th>\n",
       "      <th>address_street_name</th>\n",
       "      <th>ssn</th>\n",
       "    </tr>\n",
       "  </thead>\n",
       "  <tbody>\n",
       "    <tr>\n",
       "      <th>0</th>\n",
       "      <td>14887</td>\n",
       "      <td>Morty Schapiro</td>\n",
       "      <td>118009</td>\n",
       "      <td>4919</td>\n",
       "      <td>Northwestern Dr</td>\n",
       "      <td>111564949</td>\n",
       "    </tr>\n",
       "  </tbody>\n",
       "</table>\n",
       "</div>"
      ],
      "text/plain": [
       "      id            name  license_id  address_number address_street_name  \\\n",
       "0  14887  Morty Schapiro      118009            4919     Northwestern Dr   \n",
       "\n",
       "         ssn  \n",
       "0  111564949  "
      ]
     },
     "execution_count": 10,
     "metadata": {},
     "output_type": "execute_result"
    }
   ],
   "source": [
    "pd.read_sql_query(\"SELECT * FROM person WHERE address_street_name = 'Northwestern Dr' ORDER BY address_number DESC LIMIT 1\", con)"
   ]
  },
  {
   "cell_type": "code",
   "execution_count": 11,
   "id": "9496f8f8",
   "metadata": {
    "execution": {
     "iopub.execute_input": "2023-03-23T02:02:33.806229Z",
     "iopub.status.busy": "2023-03-23T02:02:33.804961Z",
     "iopub.status.idle": "2023-03-23T02:02:33.818847Z",
     "shell.execute_reply": "2023-03-23T02:02:33.817964Z"
    },
    "papermill": {
     "duration": 0.025175,
     "end_time": "2023-03-23T02:02:33.821619",
     "exception": false,
     "start_time": "2023-03-23T02:02:33.796444",
     "status": "completed"
    },
    "scrolled": true,
    "tags": []
   },
   "outputs": [
    {
     "data": {
      "text/html": [
       "<div>\n",
       "<style scoped>\n",
       "    .dataframe tbody tr th:only-of-type {\n",
       "        vertical-align: middle;\n",
       "    }\n",
       "\n",
       "    .dataframe tbody tr th {\n",
       "        vertical-align: top;\n",
       "    }\n",
       "\n",
       "    .dataframe thead th {\n",
       "        text-align: right;\n",
       "    }\n",
       "</style>\n",
       "<table border=\"1\" class=\"dataframe\">\n",
       "  <thead>\n",
       "    <tr style=\"text-align: right;\">\n",
       "      <th></th>\n",
       "      <th>person_id</th>\n",
       "      <th>transcript</th>\n",
       "    </tr>\n",
       "  </thead>\n",
       "  <tbody>\n",
       "    <tr>\n",
       "      <th>0</th>\n",
       "      <td>14887</td>\n",
       "      <td>I heard a gunshot and then saw a man run out. He had a \"Get Fit Now Gym\" bag. The membership number on the bag started with \"48Z\". Only gold members have those bags. The man got into a car with a plate that included \"H42W\".</td>\n",
       "    </tr>\n",
       "  </tbody>\n",
       "</table>\n",
       "</div>"
      ],
      "text/plain": [
       "   person_id  \\\n",
       "0      14887   \n",
       "\n",
       "                                                                                                                                                                                                                        transcript  \n",
       "0  I heard a gunshot and then saw a man run out. He had a \"Get Fit Now Gym\" bag. The membership number on the bag started with \"48Z\". Only gold members have those bags. The man got into a car with a plate that included \"H42W\".  "
      ]
     },
     "execution_count": 11,
     "metadata": {},
     "output_type": "execute_result"
    }
   ],
   "source": [
    "pd.read_sql_query(\"SELECT * FROM interview WHERE person_id = 14887\", con)"
   ]
  },
  {
   "cell_type": "code",
   "execution_count": 12,
   "id": "50b2088e",
   "metadata": {
    "execution": {
     "iopub.execute_input": "2023-03-23T02:02:33.838830Z",
     "iopub.status.busy": "2023-03-23T02:02:33.837584Z",
     "iopub.status.idle": "2023-03-23T02:02:33.855081Z",
     "shell.execute_reply": "2023-03-23T02:02:33.854394Z"
    },
    "papermill": {
     "duration": 0.028273,
     "end_time": "2023-03-23T02:02:33.856893",
     "exception": false,
     "start_time": "2023-03-23T02:02:33.828620",
     "status": "completed"
    },
    "tags": []
   },
   "outputs": [
    {
     "data": {
      "text/html": [
       "<div>\n",
       "<style scoped>\n",
       "    .dataframe tbody tr th:only-of-type {\n",
       "        vertical-align: middle;\n",
       "    }\n",
       "\n",
       "    .dataframe tbody tr th {\n",
       "        vertical-align: top;\n",
       "    }\n",
       "\n",
       "    .dataframe thead th {\n",
       "        text-align: right;\n",
       "    }\n",
       "</style>\n",
       "<table border=\"1\" class=\"dataframe\">\n",
       "  <thead>\n",
       "    <tr style=\"text-align: right;\">\n",
       "      <th></th>\n",
       "      <th>id</th>\n",
       "      <th>person_id</th>\n",
       "      <th>name</th>\n",
       "      <th>membership_start_date</th>\n",
       "      <th>membership_status</th>\n",
       "    </tr>\n",
       "  </thead>\n",
       "  <tbody>\n",
       "    <tr>\n",
       "      <th>0</th>\n",
       "      <td>48Z55</td>\n",
       "      <td>67318</td>\n",
       "      <td>Jeremy Bowers</td>\n",
       "      <td>20160101</td>\n",
       "      <td>gold</td>\n",
       "    </tr>\n",
       "  </tbody>\n",
       "</table>\n",
       "</div>"
      ],
      "text/plain": [
       "      id  person_id           name  membership_start_date membership_status\n",
       "0  48Z55      67318  Jeremy Bowers               20160101              gold"
      ]
     },
     "execution_count": 12,
     "metadata": {},
     "output_type": "execute_result"
    }
   ],
   "source": [
    "pd.read_sql_query(\"SELECT * FROM get_fit_now_member WHERE id LIKE '48Z55'\", con) #Using list of members from first witness"
   ]
  },
  {
   "cell_type": "code",
   "execution_count": 13,
   "id": "6adefe51",
   "metadata": {
    "execution": {
     "iopub.execute_input": "2023-03-23T02:02:33.873352Z",
     "iopub.status.busy": "2023-03-23T02:02:33.872230Z",
     "iopub.status.idle": "2023-03-23T02:02:34.060223Z",
     "shell.execute_reply": "2023-03-23T02:02:34.059303Z"
    },
    "papermill": {
     "duration": 0.19893,
     "end_time": "2023-03-23T02:02:34.063049",
     "exception": false,
     "start_time": "2023-03-23T02:02:33.864119",
     "status": "completed"
    },
    "tags": []
   },
   "outputs": [
    {
     "data": {
      "text/html": [
       "<div>\n",
       "<style scoped>\n",
       "    .dataframe tbody tr th:only-of-type {\n",
       "        vertical-align: middle;\n",
       "    }\n",
       "\n",
       "    .dataframe tbody tr th {\n",
       "        vertical-align: top;\n",
       "    }\n",
       "\n",
       "    .dataframe thead th {\n",
       "        text-align: right;\n",
       "    }\n",
       "</style>\n",
       "<table border=\"1\" class=\"dataframe\">\n",
       "  <thead>\n",
       "    <tr style=\"text-align: right;\">\n",
       "      <th></th>\n",
       "      <th>id</th>\n",
       "      <th>age</th>\n",
       "      <th>height</th>\n",
       "      <th>eye_color</th>\n",
       "      <th>hair_color</th>\n",
       "      <th>gender</th>\n",
       "      <th>plate_number</th>\n",
       "      <th>car_make</th>\n",
       "      <th>car_model</th>\n",
       "    </tr>\n",
       "  </thead>\n",
       "  <tbody>\n",
       "    <tr>\n",
       "      <th>0</th>\n",
       "      <td>423327</td>\n",
       "      <td>30</td>\n",
       "      <td>70</td>\n",
       "      <td>brown</td>\n",
       "      <td>brown</td>\n",
       "      <td>male</td>\n",
       "      <td>0H42W2</td>\n",
       "      <td>Chevrolet</td>\n",
       "      <td>Spark LS</td>\n",
       "    </tr>\n",
       "    <tr>\n",
       "      <th>1</th>\n",
       "      <td>664760</td>\n",
       "      <td>21</td>\n",
       "      <td>71</td>\n",
       "      <td>black</td>\n",
       "      <td>black</td>\n",
       "      <td>male</td>\n",
       "      <td>4H42WR</td>\n",
       "      <td>Nissan</td>\n",
       "      <td>Altima</td>\n",
       "    </tr>\n",
       "  </tbody>\n",
       "</table>\n",
       "</div>"
      ],
      "text/plain": [
       "       id  age  height eye_color hair_color gender plate_number   car_make  \\\n",
       "0  423327   30      70     brown      brown   male       0H42W2  Chevrolet   \n",
       "1  664760   21      71     black      black   male       4H42WR     Nissan   \n",
       "\n",
       "  car_model  \n",
       "0  Spark LS  \n",
       "1    Altima  "
      ]
     },
     "execution_count": 13,
     "metadata": {},
     "output_type": "execute_result"
    }
   ],
   "source": [
    "pd.read_sql_query(\"SELECT * FROM drivers_license WHERE plate_number LIKE '%H42W%' AND gender = 'male'\", con)"
   ]
  },
  {
   "cell_type": "code",
   "execution_count": 14,
   "id": "50b43fdd",
   "metadata": {
    "execution": {
     "iopub.execute_input": "2023-03-23T02:02:34.078867Z",
     "iopub.status.busy": "2023-03-23T02:02:34.078509Z",
     "iopub.status.idle": "2023-03-23T02:02:34.093934Z",
     "shell.execute_reply": "2023-03-23T02:02:34.092558Z"
    },
    "papermill": {
     "duration": 0.026202,
     "end_time": "2023-03-23T02:02:34.096630",
     "exception": false,
     "start_time": "2023-03-23T02:02:34.070428",
     "status": "completed"
    },
    "tags": []
   },
   "outputs": [
    {
     "data": {
      "text/html": [
       "<div>\n",
       "<style scoped>\n",
       "    .dataframe tbody tr th:only-of-type {\n",
       "        vertical-align: middle;\n",
       "    }\n",
       "\n",
       "    .dataframe tbody tr th {\n",
       "        vertical-align: top;\n",
       "    }\n",
       "\n",
       "    .dataframe thead th {\n",
       "        text-align: right;\n",
       "    }\n",
       "</style>\n",
       "<table border=\"1\" class=\"dataframe\">\n",
       "  <thead>\n",
       "    <tr style=\"text-align: right;\">\n",
       "      <th></th>\n",
       "      <th>id</th>\n",
       "      <th>name</th>\n",
       "      <th>license_id</th>\n",
       "      <th>address_number</th>\n",
       "      <th>address_street_name</th>\n",
       "      <th>ssn</th>\n",
       "    </tr>\n",
       "  </thead>\n",
       "  <tbody>\n",
       "    <tr>\n",
       "      <th>0</th>\n",
       "      <td>51739</td>\n",
       "      <td>Tushar Chandra</td>\n",
       "      <td>664760</td>\n",
       "      <td>312</td>\n",
       "      <td>Phi St</td>\n",
       "      <td>137882671</td>\n",
       "    </tr>\n",
       "    <tr>\n",
       "      <th>1</th>\n",
       "      <td>67318</td>\n",
       "      <td>Jeremy Bowers</td>\n",
       "      <td>423327</td>\n",
       "      <td>530</td>\n",
       "      <td>Washington Pl, Apt 3A</td>\n",
       "      <td>871539279</td>\n",
       "    </tr>\n",
       "  </tbody>\n",
       "</table>\n",
       "</div>"
      ],
      "text/plain": [
       "      id            name  license_id  address_number    address_street_name  \\\n",
       "0  51739  Tushar Chandra      664760             312                 Phi St   \n",
       "1  67318   Jeremy Bowers      423327             530  Washington Pl, Apt 3A   \n",
       "\n",
       "         ssn  \n",
       "0  137882671  \n",
       "1  871539279  "
      ]
     },
     "execution_count": 14,
     "metadata": {},
     "output_type": "execute_result"
    }
   ],
   "source": [
    "pd.read_sql_query(\"SELECT * FROM person WHERE license_id = 423327 OR license_id = 664760\", con)"
   ]
  },
  {
   "cell_type": "code",
   "execution_count": 15,
   "id": "a911c928",
   "metadata": {
    "execution": {
     "iopub.execute_input": "2023-03-23T02:02:34.114639Z",
     "iopub.status.busy": "2023-03-23T02:02:34.113234Z",
     "iopub.status.idle": "2023-03-23T02:02:34.131644Z",
     "shell.execute_reply": "2023-03-23T02:02:34.130147Z"
    },
    "papermill": {
     "duration": 0.029488,
     "end_time": "2023-03-23T02:02:34.133940",
     "exception": false,
     "start_time": "2023-03-23T02:02:34.104452",
     "status": "completed"
    },
    "tags": []
   },
   "outputs": [
    {
     "data": {
      "text/html": [
       "<div>\n",
       "<style scoped>\n",
       "    .dataframe tbody tr th:only-of-type {\n",
       "        vertical-align: middle;\n",
       "    }\n",
       "\n",
       "    .dataframe tbody tr th {\n",
       "        vertical-align: top;\n",
       "    }\n",
       "\n",
       "    .dataframe thead th {\n",
       "        text-align: right;\n",
       "    }\n",
       "</style>\n",
       "<table border=\"1\" class=\"dataframe\">\n",
       "  <thead>\n",
       "    <tr style=\"text-align: right;\">\n",
       "      <th></th>\n",
       "      <th>person_id</th>\n",
       "      <th>transcript</th>\n",
       "    </tr>\n",
       "  </thead>\n",
       "  <tbody>\n",
       "    <tr>\n",
       "      <th>0</th>\n",
       "      <td>67318</td>\n",
       "      <td>I was hired by a woman with a lot of money. I don't know her name but I know she's around 5'5\" (65\") or 5'7\" (67\"). She has red hair and she drives a Tesla Model S. I know that she attended the SQL Symphony Concert 3 times in December 2017.\\n</td>\n",
       "    </tr>\n",
       "  </tbody>\n",
       "</table>\n",
       "</div>"
      ],
      "text/plain": [
       "   person_id  \\\n",
       "0      67318   \n",
       "\n",
       "                                                                                                                                                                                                                                           transcript  \n",
       "0  I was hired by a woman with a lot of money. I don't know her name but I know she's around 5'5\" (65\") or 5'7\" (67\"). She has red hair and she drives a Tesla Model S. I know that she attended the SQL Symphony Concert 3 times in December 2017.\\n  "
      ]
     },
     "execution_count": 15,
     "metadata": {},
     "output_type": "execute_result"
    }
   ],
   "source": [
    "pd.read_sql_query(\"SELECT * FROM interview WHERE person_id = 67318\", con)"
   ]
  },
  {
   "cell_type": "markdown",
   "id": "884cca79",
   "metadata": {
    "papermill": {
     "duration": 0.007028,
     "end_time": "2023-03-23T02:02:34.148887",
     "exception": false,
     "start_time": "2023-03-23T02:02:34.141859",
     "status": "completed"
    },
    "tags": []
   },
   "source": [
    "### Jeremy Bowers, and he is a tattletale.\n",
    "\n",
    "When I check the answer it gives me the following string:\n",
    "\"Congrats, you found the murderer! But wait, there's more... If you think you're up for a challenge, try querying the interview transcript of the murderer to find the real villain behind this crime. If you feel especially confident in your SQL skills, try to complete this final step with no more than 2 queries. Use this same INSERT statement with your new suspect to check your answer."
   ]
  },
  {
   "cell_type": "code",
   "execution_count": 16,
   "id": "c53cc878",
   "metadata": {
    "execution": {
     "iopub.execute_input": "2023-03-23T02:02:34.164711Z",
     "iopub.status.busy": "2023-03-23T02:02:34.164299Z",
     "iopub.status.idle": "2023-03-23T02:02:34.229085Z",
     "shell.execute_reply": "2023-03-23T02:02:34.228122Z"
    },
    "papermill": {
     "duration": 0.075157,
     "end_time": "2023-03-23T02:02:34.231159",
     "exception": false,
     "start_time": "2023-03-23T02:02:34.156002",
     "status": "completed"
    },
    "tags": []
   },
   "outputs": [
    {
     "data": {
      "text/html": [
       "<div>\n",
       "<style scoped>\n",
       "    .dataframe tbody tr th:only-of-type {\n",
       "        vertical-align: middle;\n",
       "    }\n",
       "\n",
       "    .dataframe tbody tr th {\n",
       "        vertical-align: top;\n",
       "    }\n",
       "\n",
       "    .dataframe thead th {\n",
       "        text-align: right;\n",
       "    }\n",
       "</style>\n",
       "<table border=\"1\" class=\"dataframe\">\n",
       "  <thead>\n",
       "    <tr style=\"text-align: right;\">\n",
       "      <th></th>\n",
       "      <th>name</th>\n",
       "      <th>id</th>\n",
       "      <th>license_id</th>\n",
       "      <th>car_model</th>\n",
       "      <th>gender</th>\n",
       "      <th>hair_color</th>\n",
       "      <th>height</th>\n",
       "      <th>event_name</th>\n",
       "      <th>date</th>\n",
       "      <th>Count</th>\n",
       "    </tr>\n",
       "  </thead>\n",
       "  <tbody>\n",
       "    <tr>\n",
       "      <th>0</th>\n",
       "      <td>Miranda Priestly</td>\n",
       "      <td>99716</td>\n",
       "      <td>202298</td>\n",
       "      <td>Model S</td>\n",
       "      <td>female</td>\n",
       "      <td>red</td>\n",
       "      <td>66</td>\n",
       "      <td>SQL Symphony Concert</td>\n",
       "      <td>20171206</td>\n",
       "      <td>3</td>\n",
       "    </tr>\n",
       "  </tbody>\n",
       "</table>\n",
       "</div>"
      ],
      "text/plain": [
       "               name     id  license_id car_model  gender hair_color  height  \\\n",
       "0  Miranda Priestly  99716      202298   Model S  female        red      66   \n",
       "\n",
       "             event_name      date  Count  \n",
       "0  SQL Symphony Concert  20171206      3  "
      ]
     },
     "execution_count": 16,
     "metadata": {},
     "output_type": "execute_result"
    }
   ],
   "source": [
    "pd.read_sql_query('''SELECT p.name, \n",
    "                      p.id, \n",
    "                      p.license_id, \n",
    "                      dl.car_model, \n",
    "                      dl.gender, \n",
    "                      dl.hair_color, \n",
    "                      dl.height, \n",
    "                      fb.event_name, \n",
    "                      fb.date, \n",
    "                      COUNT(person_id) AS 'Count'\n",
    "                  FROM drivers_license dl\n",
    "                  JOIN person p ON p.license_id = dl.id\n",
    "                  JOIN facebook_event_checkin fb ON p.id = fb.person_id\n",
    "                  WHERE car_model LIKE '%model%' AND\n",
    "                      gender = 'female' AND\n",
    "                      hair_color = 'red' AND\n",
    "                      height BETWEEN 65 AND 67 AND\n",
    "                      event_name = 'SQL Symphony Concert' AND\n",
    "                      date BETWEEN 20171201 AND 20171231 \n",
    "                  GROUP BY person_id \n",
    "                  HAVING Count(*) = 3''', con)"
   ]
  },
  {
   "cell_type": "code",
   "execution_count": 17,
   "id": "2aed3d83",
   "metadata": {
    "execution": {
     "iopub.execute_input": "2023-03-23T02:02:34.248608Z",
     "iopub.status.busy": "2023-03-23T02:02:34.248206Z",
     "iopub.status.idle": "2023-03-23T02:02:34.253118Z",
     "shell.execute_reply": "2023-03-23T02:02:34.251814Z"
    },
    "papermill": {
     "duration": 0.015775,
     "end_time": "2023-03-23T02:02:34.255149",
     "exception": false,
     "start_time": "2023-03-23T02:02:34.239374",
     "status": "completed"
    },
    "tags": []
   },
   "outputs": [],
   "source": [
    "#suspect_name = suspect_info.loc[:,'name'].to_list()\n",
    "#cur.execute(\"INSERT INTO solution VALUES (1, ?);\", suspect_name)"
   ]
  },
  {
   "cell_type": "code",
   "execution_count": 18,
   "id": "401b0455",
   "metadata": {
    "execution": {
     "iopub.execute_input": "2023-03-23T02:02:34.271340Z",
     "iopub.status.busy": "2023-03-23T02:02:34.270984Z",
     "iopub.status.idle": "2023-03-23T02:02:34.291529Z",
     "shell.execute_reply": "2023-03-23T02:02:34.290317Z"
    },
    "papermill": {
     "duration": 0.030907,
     "end_time": "2023-03-23T02:02:34.293581",
     "exception": false,
     "start_time": "2023-03-23T02:02:34.262674",
     "status": "completed"
    },
    "tags": []
   },
   "outputs": [
    {
     "data": {
      "text/html": [
       "<div>\n",
       "<style scoped>\n",
       "    .dataframe tbody tr th:only-of-type {\n",
       "        vertical-align: middle;\n",
       "    }\n",
       "\n",
       "    .dataframe tbody tr th {\n",
       "        vertical-align: top;\n",
       "    }\n",
       "\n",
       "    .dataframe thead th {\n",
       "        text-align: right;\n",
       "    }\n",
       "</style>\n",
       "<table border=\"1\" class=\"dataframe\">\n",
       "  <thead>\n",
       "    <tr style=\"text-align: right;\">\n",
       "      <th></th>\n",
       "      <th>value</th>\n",
       "    </tr>\n",
       "  </thead>\n",
       "  <tbody>\n",
       "  </tbody>\n",
       "</table>\n",
       "</div>"
      ],
      "text/plain": [
       "Empty DataFrame\n",
       "Columns: [value]\n",
       "Index: []"
      ]
     },
     "execution_count": 18,
     "metadata": {},
     "output_type": "execute_result"
    }
   ],
   "source": [
    "pd.read_sql_query(\" SELECT value FROM Solution;\", con)"
   ]
  },
  {
   "cell_type": "markdown",
   "id": "72346d4f",
   "metadata": {
    "papermill": {
     "duration": 0.007248,
     "end_time": "2023-03-23T02:02:34.308412",
     "exception": false,
     "start_time": "2023-03-23T02:02:34.301164",
     "status": "completed"
    },
    "tags": []
   },
   "source": [
    "### File is read only, to ge the answers we have to follow this link - [SQL Murder Mystery](http://mystery.knightlab.com/#experienced) - and insert the name of our suspect."
   ]
  },
  {
   "cell_type": "markdown",
   "id": "cce33d0b",
   "metadata": {
    "papermill": {
     "duration": 0.007035,
     "end_time": "2023-03-23T02:02:34.322920",
     "exception": false,
     "start_time": "2023-03-23T02:02:34.315885",
     "status": "completed"
    },
    "tags": []
   },
   "source": [
    "### Miranda Priestly is the mastermind behind it all.\n",
    "\n",
    "When I check the answer it gives me the following string:\n",
    "\"Congrats, you found the brains behind the murder! Everyone in SQL City hails you as the greatest SQL detective of all time. Time to break out the champagne!.\""
   ]
  },
  {
   "cell_type": "markdown",
   "id": "563e3995",
   "metadata": {
    "papermill": {
     "duration": 0.007225,
     "end_time": "2023-03-23T02:02:34.337448",
     "exception": false,
     "start_time": "2023-03-23T02:02:34.330223",
     "status": "completed"
    },
    "tags": []
   },
   "source": [
    "# Outcome - The murder is **Jeremy Bowers** and he was hired by **Miranda Priestly**."
   ]
  }
 ],
 "metadata": {
  "kernelspec": {
   "display_name": "Python 3",
   "language": "python",
   "name": "python3"
  },
  "language_info": {
   "codemirror_mode": {
    "name": "ipython",
    "version": 3
   },
   "file_extension": ".py",
   "mimetype": "text/x-python",
   "name": "python",
   "nbconvert_exporter": "python",
   "pygments_lexer": "ipython3",
   "version": "3.7.12"
  },
  "papermill": {
   "default_parameters": {},
   "duration": 10.468929,
   "end_time": "2023-03-23T02:02:34.966968",
   "environment_variables": {},
   "exception": null,
   "input_path": "__notebook__.ipynb",
   "output_path": "__notebook__.ipynb",
   "parameters": {},
   "start_time": "2023-03-23T02:02:24.498039",
   "version": "2.4.0"
  }
 },
 "nbformat": 4,
 "nbformat_minor": 5
}
