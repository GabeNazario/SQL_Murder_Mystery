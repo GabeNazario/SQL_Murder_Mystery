{
 "cells": [
  {
   "cell_type": "code",
   "execution_count": 1,
   "id": "dbffe25d",
   "metadata": {
    "execution": {
     "iopub.execute_input": "2022-10-12T18:04:08.295377Z",
     "iopub.status.busy": "2022-10-12T18:04:08.294552Z",
     "iopub.status.idle": "2022-10-12T18:04:08.304693Z",
     "shell.execute_reply": "2022-10-12T18:04:08.303459Z"
    },
    "papermill": {
     "duration": 0.022418,
     "end_time": "2022-10-12T18:04:08.307399",
     "exception": false,
     "start_time": "2022-10-12T18:04:08.284981",
     "status": "completed"
    },
    "tags": []
   },
   "outputs": [],
   "source": [
    "import sqlite3\n",
    "import pandas as pd"
   ]
  },
  {
   "cell_type": "code",
   "execution_count": 2,
   "id": "ab8c5b15",
   "metadata": {
    "execution": {
     "iopub.execute_input": "2022-10-12T18:04:08.321901Z",
     "iopub.status.busy": "2022-10-12T18:04:08.321171Z",
     "iopub.status.idle": "2022-10-12T18:04:08.325855Z",
     "shell.execute_reply": "2022-10-12T18:04:08.325078Z"
    },
    "papermill": {
     "duration": 0.014345,
     "end_time": "2022-10-12T18:04:08.328022",
     "exception": false,
     "start_time": "2022-10-12T18:04:08.313677",
     "status": "completed"
    },
    "tags": []
   },
   "outputs": [],
   "source": [
    "pd.set_option('display.max_colwidth', None)"
   ]
  },
  {
   "cell_type": "code",
   "execution_count": 3,
   "id": "141eebb4",
   "metadata": {
    "execution": {
     "iopub.execute_input": "2022-10-12T18:04:08.342536Z",
     "iopub.status.busy": "2022-10-12T18:04:08.341773Z",
     "iopub.status.idle": "2022-10-12T18:04:08.355864Z",
     "shell.execute_reply": "2022-10-12T18:04:08.354859Z"
    },
    "papermill": {
     "duration": 0.024224,
     "end_time": "2022-10-12T18:04:08.358498",
     "exception": false,
     "start_time": "2022-10-12T18:04:08.334274",
     "status": "completed"
    },
    "tags": []
   },
   "outputs": [],
   "source": [
    "con = sqlite3.connect(\"../input/sql-murder-mystery-database/sql-murder-mystery.db\")"
   ]
  },
  {
   "cell_type": "code",
   "execution_count": 4,
   "id": "c7f6c732",
   "metadata": {
    "execution": {
     "iopub.execute_input": "2022-10-12T18:04:08.372595Z",
     "iopub.status.busy": "2022-10-12T18:04:08.372201Z",
     "iopub.status.idle": "2022-10-12T18:04:08.376708Z",
     "shell.execute_reply": "2022-10-12T18:04:08.375951Z"
    },
    "papermill": {
     "duration": 0.013981,
     "end_time": "2022-10-12T18:04:08.378812",
     "exception": false,
     "start_time": "2022-10-12T18:04:08.364831",
     "status": "completed"
    },
    "tags": []
   },
   "outputs": [],
   "source": [
    "cur = con.cursor()"
   ]
  },
  {
   "cell_type": "code",
   "execution_count": 5,
   "id": "d3acc5f3",
   "metadata": {
    "execution": {
     "iopub.execute_input": "2022-10-12T18:04:08.393293Z",
     "iopub.status.busy": "2022-10-12T18:04:08.392339Z",
     "iopub.status.idle": "2022-10-12T18:04:08.436840Z",
     "shell.execute_reply": "2022-10-12T18:04:08.435555Z"
    },
    "papermill": {
     "duration": 0.05452,
     "end_time": "2022-10-12T18:04:08.439429",
     "exception": false,
     "start_time": "2022-10-12T18:04:08.384909",
     "status": "completed"
    },
    "tags": []
   },
   "outputs": [
    {
     "data": {
      "text/html": [
       "<div>\n",
       "<style scoped>\n",
       "    .dataframe tbody tr th:only-of-type {\n",
       "        vertical-align: middle;\n",
       "    }\n",
       "\n",
       "    .dataframe tbody tr th {\n",
       "        vertical-align: top;\n",
       "    }\n",
       "\n",
       "    .dataframe thead th {\n",
       "        text-align: right;\n",
       "    }\n",
       "</style>\n",
       "<table border=\"1\" class=\"dataframe\">\n",
       "  <thead>\n",
       "    <tr style=\"text-align: right;\">\n",
       "      <th></th>\n",
       "      <th>type</th>\n",
       "      <th>name</th>\n",
       "      <th>tbl_name</th>\n",
       "      <th>rootpage</th>\n",
       "      <th>sql</th>\n",
       "    </tr>\n",
       "  </thead>\n",
       "  <tbody>\n",
       "    <tr>\n",
       "      <th>0</th>\n",
       "      <td>table</td>\n",
       "      <td>crime_scene_report</td>\n",
       "      <td>crime_scene_report</td>\n",
       "      <td>2</td>\n",
       "      <td>CREATE TABLE crime_scene_report (\\n        date integer,\\n        type text,\\n        description text,\\n        city text\\n    )</td>\n",
       "    </tr>\n",
       "    <tr>\n",
       "      <th>1</th>\n",
       "      <td>table</td>\n",
       "      <td>drivers_license</td>\n",
       "      <td>drivers_license</td>\n",
       "      <td>3</td>\n",
       "      <td>CREATE TABLE drivers_license (\\n        id integer PRIMARY KEY,\\n        age integer,\\n        height integer,\\n        eye_color text,\\n        hair_color text,\\n        gender text,\\n        plate_number text,\\n        car_make text,\\n        car_model text\\n    )</td>\n",
       "    </tr>\n",
       "    <tr>\n",
       "      <th>2</th>\n",
       "      <td>table</td>\n",
       "      <td>person</td>\n",
       "      <td>person</td>\n",
       "      <td>4</td>\n",
       "      <td>CREATE TABLE person (\\n        id integer PRIMARY KEY,\\n        name text,\\n        license_id integer,\\n        address_number integer,\\n        address_street_name text,\\n        ssn integer,\\n        FOREIGN KEY (license_id) REFERENCES drivers_license(id)\\n    )</td>\n",
       "    </tr>\n",
       "    <tr>\n",
       "      <th>3</th>\n",
       "      <td>table</td>\n",
       "      <td>facebook_event_checkin</td>\n",
       "      <td>facebook_event_checkin</td>\n",
       "      <td>5</td>\n",
       "      <td>CREATE TABLE facebook_event_checkin (\\n        person_id integer,\\n        event_id integer,\\n        event_name text,\\n        date integer,\\n        FOREIGN KEY (person_id) REFERENCES person(id)\\n    )</td>\n",
       "    </tr>\n",
       "    <tr>\n",
       "      <th>4</th>\n",
       "      <td>table</td>\n",
       "      <td>interview</td>\n",
       "      <td>interview</td>\n",
       "      <td>6</td>\n",
       "      <td>CREATE TABLE interview (\\n        person_id integer,\\n        transcript text,\\n        FOREIGN KEY (person_id) REFERENCES person(id)\\n    )</td>\n",
       "    </tr>\n",
       "    <tr>\n",
       "      <th>5</th>\n",
       "      <td>table</td>\n",
       "      <td>get_fit_now_member</td>\n",
       "      <td>get_fit_now_member</td>\n",
       "      <td>7</td>\n",
       "      <td>CREATE TABLE get_fit_now_member (\\n        id text PRIMARY KEY,\\n        person_id integer,\\n        name text,\\n        membership_start_date integer,\\n        membership_status text,\\n        FOREIGN KEY (person_id) REFERENCES person(id)\\n    )</td>\n",
       "    </tr>\n",
       "    <tr>\n",
       "      <th>6</th>\n",
       "      <td>table</td>\n",
       "      <td>get_fit_now_check_in</td>\n",
       "      <td>get_fit_now_check_in</td>\n",
       "      <td>9</td>\n",
       "      <td>CREATE TABLE get_fit_now_check_in (\\n        membership_id text,\\n        check_in_date integer,\\n        check_in_time integer,\\n        check_out_time integer,\\n        FOREIGN KEY (membership_id) REFERENCES get_fit_now_member(id)\\n    )</td>\n",
       "    </tr>\n",
       "    <tr>\n",
       "      <th>7</th>\n",
       "      <td>table</td>\n",
       "      <td>income</td>\n",
       "      <td>income</td>\n",
       "      <td>10</td>\n",
       "      <td>CREATE TABLE income (\\n        ssn integer PRIMARY KEY,\\n        annual_income integer\\n    )</td>\n",
       "    </tr>\n",
       "    <tr>\n",
       "      <th>8</th>\n",
       "      <td>table</td>\n",
       "      <td>solution</td>\n",
       "      <td>solution</td>\n",
       "      <td>11</td>\n",
       "      <td>CREATE TABLE solution (\\n        user integer,\\n        value text\\n    )</td>\n",
       "    </tr>\n",
       "  </tbody>\n",
       "</table>\n",
       "</div>"
      ],
      "text/plain": [
       "    type                    name                tbl_name  rootpage  \\\n",
       "0  table      crime_scene_report      crime_scene_report         2   \n",
       "1  table         drivers_license         drivers_license         3   \n",
       "2  table                  person                  person         4   \n",
       "3  table  facebook_event_checkin  facebook_event_checkin         5   \n",
       "4  table               interview               interview         6   \n",
       "5  table      get_fit_now_member      get_fit_now_member         7   \n",
       "6  table    get_fit_now_check_in    get_fit_now_check_in         9   \n",
       "7  table                  income                  income        10   \n",
       "8  table                solution                solution        11   \n",
       "\n",
       "                                                                                                                                                                                                                                                                          sql  \n",
       "0                                                                                                                                           CREATE TABLE crime_scene_report (\\n        date integer,\\n        type text,\\n        description text,\\n        city text\\n    )  \n",
       "1  CREATE TABLE drivers_license (\\n        id integer PRIMARY KEY,\\n        age integer,\\n        height integer,\\n        eye_color text,\\n        hair_color text,\\n        gender text,\\n        plate_number text,\\n        car_make text,\\n        car_model text\\n    )  \n",
       "2   CREATE TABLE person (\\n        id integer PRIMARY KEY,\\n        name text,\\n        license_id integer,\\n        address_number integer,\\n        address_street_name text,\\n        ssn integer,\\n        FOREIGN KEY (license_id) REFERENCES drivers_license(id)\\n    )  \n",
       "3                                                                 CREATE TABLE facebook_event_checkin (\\n        person_id integer,\\n        event_id integer,\\n        event_name text,\\n        date integer,\\n        FOREIGN KEY (person_id) REFERENCES person(id)\\n    )  \n",
       "4                                                                                                                                CREATE TABLE interview (\\n        person_id integer,\\n        transcript text,\\n        FOREIGN KEY (person_id) REFERENCES person(id)\\n    )  \n",
       "5                      CREATE TABLE get_fit_now_member (\\n        id text PRIMARY KEY,\\n        person_id integer,\\n        name text,\\n        membership_start_date integer,\\n        membership_status text,\\n        FOREIGN KEY (person_id) REFERENCES person(id)\\n    )  \n",
       "6                             CREATE TABLE get_fit_now_check_in (\\n        membership_id text,\\n        check_in_date integer,\\n        check_in_time integer,\\n        check_out_time integer,\\n        FOREIGN KEY (membership_id) REFERENCES get_fit_now_member(id)\\n    )  \n",
       "7                                                                                                                                                                               CREATE TABLE income (\\n        ssn integer PRIMARY KEY,\\n        annual_income integer\\n    )  \n",
       "8                                                                                                                                                                                                   CREATE TABLE solution (\\n        user integer,\\n        value text\\n    )  "
      ]
     },
     "execution_count": 5,
     "metadata": {},
     "output_type": "execute_result"
    }
   ],
   "source": [
    "tbl_names = pd.read_sql_query(\"SELECT * from sqlite_master WHERE type='table'\", con)\n",
    "tbl_names"
   ]
  },
  {
   "cell_type": "code",
   "execution_count": 6,
   "id": "88a3065d",
   "metadata": {
    "execution": {
     "iopub.execute_input": "2022-10-12T18:04:08.454277Z",
     "iopub.status.busy": "2022-10-12T18:04:08.453859Z",
     "iopub.status.idle": "2022-10-12T18:04:08.475562Z",
     "shell.execute_reply": "2022-10-12T18:04:08.474434Z"
    },
    "papermill": {
     "duration": 0.032184,
     "end_time": "2022-10-12T18:04:08.478226",
     "exception": false,
     "start_time": "2022-10-12T18:04:08.446042",
     "status": "completed"
    },
    "tags": []
   },
   "outputs": [
    {
     "data": {
      "text/html": [
       "<div>\n",
       "<style scoped>\n",
       "    .dataframe tbody tr th:only-of-type {\n",
       "        vertical-align: middle;\n",
       "    }\n",
       "\n",
       "    .dataframe tbody tr th {\n",
       "        vertical-align: top;\n",
       "    }\n",
       "\n",
       "    .dataframe thead th {\n",
       "        text-align: right;\n",
       "    }\n",
       "</style>\n",
       "<table border=\"1\" class=\"dataframe\">\n",
       "  <thead>\n",
       "    <tr style=\"text-align: right;\">\n",
       "      <th></th>\n",
       "      <th>date</th>\n",
       "      <th>type</th>\n",
       "      <th>description</th>\n",
       "      <th>city</th>\n",
       "    </tr>\n",
       "  </thead>\n",
       "  <tbody>\n",
       "    <tr>\n",
       "      <th>0</th>\n",
       "      <td>20180115</td>\n",
       "      <td>murder</td>\n",
       "      <td>Security footage shows that there were 2 witnesses. The first witness lives at the last house on \"Northwestern Dr\". The second witness, named Annabel, lives somewhere on \"Franklin Ave\".</td>\n",
       "      <td>SQL City</td>\n",
       "    </tr>\n",
       "  </tbody>\n",
       "</table>\n",
       "</div>"
      ],
      "text/plain": [
       "       date    type  \\\n",
       "0  20180115  murder   \n",
       "\n",
       "                                                                                                                                                                                 description  \\\n",
       "0  Security footage shows that there were 2 witnesses. The first witness lives at the last house on \"Northwestern Dr\". The second witness, named Annabel, lives somewhere on \"Franklin Ave\".   \n",
       "\n",
       "       city  \n",
       "0  SQL City  "
      ]
     },
     "execution_count": 6,
     "metadata": {},
     "output_type": "execute_result"
    }
   ],
   "source": [
    "report = pd.read_sql_query(\"SELECT * from crime_scene_report WHERE date = 20180115 AND type = 'murder' and city = 'SQL City'\", con)\n",
    "report"
   ]
  },
  {
   "cell_type": "code",
   "execution_count": 7,
   "id": "1647d0ee",
   "metadata": {
    "execution": {
     "iopub.execute_input": "2022-10-12T18:04:08.493425Z",
     "iopub.status.busy": "2022-10-12T18:04:08.492758Z",
     "iopub.status.idle": "2022-10-12T18:04:08.671391Z",
     "shell.execute_reply": "2022-10-12T18:04:08.670169Z"
    },
    "papermill": {
     "duration": 0.189796,
     "end_time": "2022-10-12T18:04:08.674706",
     "exception": false,
     "start_time": "2022-10-12T18:04:08.484910",
     "status": "completed"
    },
    "tags": []
   },
   "outputs": [
    {
     "data": {
      "text/html": [
       "<div>\n",
       "<style scoped>\n",
       "    .dataframe tbody tr th:only-of-type {\n",
       "        vertical-align: middle;\n",
       "    }\n",
       "\n",
       "    .dataframe tbody tr th {\n",
       "        vertical-align: top;\n",
       "    }\n",
       "\n",
       "    .dataframe thead th {\n",
       "        text-align: right;\n",
       "    }\n",
       "</style>\n",
       "<table border=\"1\" class=\"dataframe\">\n",
       "  <thead>\n",
       "    <tr style=\"text-align: right;\">\n",
       "      <th></th>\n",
       "      <th>id</th>\n",
       "      <th>name</th>\n",
       "      <th>license_id</th>\n",
       "      <th>address_number</th>\n",
       "      <th>address_street_name</th>\n",
       "      <th>ssn</th>\n",
       "    </tr>\n",
       "  </thead>\n",
       "  <tbody>\n",
       "    <tr>\n",
       "      <th>0</th>\n",
       "      <td>16371</td>\n",
       "      <td>Annabel Miller</td>\n",
       "      <td>490173</td>\n",
       "      <td>103</td>\n",
       "      <td>Franklin Ave</td>\n",
       "      <td>318771143</td>\n",
       "    </tr>\n",
       "  </tbody>\n",
       "</table>\n",
       "</div>"
      ],
      "text/plain": [
       "      id            name  license_id  address_number address_street_name  \\\n",
       "0  16371  Annabel Miller      490173             103        Franklin Ave   \n",
       "\n",
       "         ssn  \n",
       "0  318771143  "
      ]
     },
     "execution_count": 7,
     "metadata": {},
     "output_type": "execute_result"
    }
   ],
   "source": [
    "pd.read_sql_query(\"SELECT * FROM person WHERE address_street_name = 'Franklin Ave' AND  name LIKE 'Annabel%'\", con)"
   ]
  },
  {
   "cell_type": "code",
   "execution_count": 8,
   "id": "e15e3a51",
   "metadata": {
    "execution": {
     "iopub.execute_input": "2022-10-12T18:04:08.690665Z",
     "iopub.status.busy": "2022-10-12T18:04:08.690255Z",
     "iopub.status.idle": "2022-10-12T18:04:08.791836Z",
     "shell.execute_reply": "2022-10-12T18:04:08.790721Z"
    },
    "papermill": {
     "duration": 0.112765,
     "end_time": "2022-10-12T18:04:08.794683",
     "exception": false,
     "start_time": "2022-10-12T18:04:08.681918",
     "status": "completed"
    },
    "tags": []
   },
   "outputs": [
    {
     "data": {
      "text/html": [
       "<div>\n",
       "<style scoped>\n",
       "    .dataframe tbody tr th:only-of-type {\n",
       "        vertical-align: middle;\n",
       "    }\n",
       "\n",
       "    .dataframe tbody tr th {\n",
       "        vertical-align: top;\n",
       "    }\n",
       "\n",
       "    .dataframe thead th {\n",
       "        text-align: right;\n",
       "    }\n",
       "</style>\n",
       "<table border=\"1\" class=\"dataframe\">\n",
       "  <thead>\n",
       "    <tr style=\"text-align: right;\">\n",
       "      <th></th>\n",
       "      <th>person_id</th>\n",
       "      <th>transcript</th>\n",
       "    </tr>\n",
       "  </thead>\n",
       "  <tbody>\n",
       "    <tr>\n",
       "      <th>0</th>\n",
       "      <td>16371</td>\n",
       "      <td>I saw the murder happen, and I recognized the killer from my gym when I was working out last week on January the 9th.</td>\n",
       "    </tr>\n",
       "  </tbody>\n",
       "</table>\n",
       "</div>"
      ],
      "text/plain": [
       "   person_id  \\\n",
       "0      16371   \n",
       "\n",
       "                                                                                                              transcript  \n",
       "0  I saw the murder happen, and I recognized the killer from my gym when I was working out last week on January the 9th.  "
      ]
     },
     "execution_count": 8,
     "metadata": {},
     "output_type": "execute_result"
    }
   ],
   "source": [
    "pd.read_sql_query(\"SELECT * FROM interview WHERE person_id = 16371\", con)"
   ]
  },
  {
   "cell_type": "code",
   "execution_count": 9,
   "id": "c40f15e2",
   "metadata": {
    "execution": {
     "iopub.execute_input": "2022-10-12T18:04:08.811289Z",
     "iopub.status.busy": "2022-10-12T18:04:08.810093Z",
     "iopub.status.idle": "2022-10-12T18:04:08.846194Z",
     "shell.execute_reply": "2022-10-12T18:04:08.844940Z"
    },
    "papermill": {
     "duration": 0.046488,
     "end_time": "2022-10-12T18:04:08.848548",
     "exception": false,
     "start_time": "2022-10-12T18:04:08.802060",
     "status": "completed"
    },
    "tags": []
   },
   "outputs": [
    {
     "data": {
      "text/html": [
       "<div>\n",
       "<style scoped>\n",
       "    .dataframe tbody tr th:only-of-type {\n",
       "        vertical-align: middle;\n",
       "    }\n",
       "\n",
       "    .dataframe tbody tr th {\n",
       "        vertical-align: top;\n",
       "    }\n",
       "\n",
       "    .dataframe thead th {\n",
       "        text-align: right;\n",
       "    }\n",
       "</style>\n",
       "<table border=\"1\" class=\"dataframe\">\n",
       "  <thead>\n",
       "    <tr style=\"text-align: right;\">\n",
       "      <th></th>\n",
       "      <th>membership_id</th>\n",
       "      <th>check_in_date</th>\n",
       "      <th>check_in_time</th>\n",
       "      <th>check_out_time</th>\n",
       "    </tr>\n",
       "  </thead>\n",
       "  <tbody>\n",
       "    <tr>\n",
       "      <th>0</th>\n",
       "      <td>X0643</td>\n",
       "      <td>20180109</td>\n",
       "      <td>957</td>\n",
       "      <td>1164</td>\n",
       "    </tr>\n",
       "    <tr>\n",
       "      <th>1</th>\n",
       "      <td>UK1F2</td>\n",
       "      <td>20180109</td>\n",
       "      <td>344</td>\n",
       "      <td>518</td>\n",
       "    </tr>\n",
       "    <tr>\n",
       "      <th>2</th>\n",
       "      <td>XTE42</td>\n",
       "      <td>20180109</td>\n",
       "      <td>486</td>\n",
       "      <td>1124</td>\n",
       "    </tr>\n",
       "    <tr>\n",
       "      <th>3</th>\n",
       "      <td>1AE2H</td>\n",
       "      <td>20180109</td>\n",
       "      <td>461</td>\n",
       "      <td>944</td>\n",
       "    </tr>\n",
       "    <tr>\n",
       "      <th>4</th>\n",
       "      <td>6LSTG</td>\n",
       "      <td>20180109</td>\n",
       "      <td>399</td>\n",
       "      <td>515</td>\n",
       "    </tr>\n",
       "    <tr>\n",
       "      <th>5</th>\n",
       "      <td>7MWHJ</td>\n",
       "      <td>20180109</td>\n",
       "      <td>273</td>\n",
       "      <td>885</td>\n",
       "    </tr>\n",
       "    <tr>\n",
       "      <th>6</th>\n",
       "      <td>GE5Q8</td>\n",
       "      <td>20180109</td>\n",
       "      <td>367</td>\n",
       "      <td>959</td>\n",
       "    </tr>\n",
       "    <tr>\n",
       "      <th>7</th>\n",
       "      <td>48Z7A</td>\n",
       "      <td>20180109</td>\n",
       "      <td>1600</td>\n",
       "      <td>1730</td>\n",
       "    </tr>\n",
       "    <tr>\n",
       "      <th>8</th>\n",
       "      <td>48Z55</td>\n",
       "      <td>20180109</td>\n",
       "      <td>1530</td>\n",
       "      <td>1700</td>\n",
       "    </tr>\n",
       "    <tr>\n",
       "      <th>9</th>\n",
       "      <td>90081</td>\n",
       "      <td>20180109</td>\n",
       "      <td>1600</td>\n",
       "      <td>1700</td>\n",
       "    </tr>\n",
       "  </tbody>\n",
       "</table>\n",
       "</div>"
      ],
      "text/plain": [
       "  membership_id  check_in_date  check_in_time  check_out_time\n",
       "0         X0643       20180109            957            1164\n",
       "1         UK1F2       20180109            344             518\n",
       "2         XTE42       20180109            486            1124\n",
       "3         1AE2H       20180109            461             944\n",
       "4         6LSTG       20180109            399             515\n",
       "5         7MWHJ       20180109            273             885\n",
       "6         GE5Q8       20180109            367             959\n",
       "7         48Z7A       20180109           1600            1730\n",
       "8         48Z55       20180109           1530            1700\n",
       "9         90081       20180109           1600            1700"
      ]
     },
     "execution_count": 9,
     "metadata": {},
     "output_type": "execute_result"
    }
   ],
   "source": [
    "pd.read_sql_query(\"SELECT * FROM get_fit_now_check_in WHERE check_in_date = 20180109\", con)"
   ]
  },
  {
   "cell_type": "markdown",
   "id": "010eae5f",
   "metadata": {
    "papermill": {
     "duration": 0.006608,
     "end_time": "2022-10-12T18:04:08.862898",
     "exception": false,
     "start_time": "2022-10-12T18:04:08.856290",
     "status": "completed"
    },
    "tags": []
   },
   "source": [
    "### There are too many to try to find out individually. Will pursue the other witness."
   ]
  },
  {
   "cell_type": "code",
   "execution_count": 10,
   "id": "3827b45c",
   "metadata": {
    "execution": {
     "iopub.execute_input": "2022-10-12T18:04:08.878798Z",
     "iopub.status.busy": "2022-10-12T18:04:08.878427Z",
     "iopub.status.idle": "2022-10-12T18:04:08.894217Z",
     "shell.execute_reply": "2022-10-12T18:04:08.893184Z"
    },
    "papermill": {
     "duration": 0.026505,
     "end_time": "2022-10-12T18:04:08.896544",
     "exception": false,
     "start_time": "2022-10-12T18:04:08.870039",
     "status": "completed"
    },
    "tags": []
   },
   "outputs": [
    {
     "data": {
      "text/html": [
       "<div>\n",
       "<style scoped>\n",
       "    .dataframe tbody tr th:only-of-type {\n",
       "        vertical-align: middle;\n",
       "    }\n",
       "\n",
       "    .dataframe tbody tr th {\n",
       "        vertical-align: top;\n",
       "    }\n",
       "\n",
       "    .dataframe thead th {\n",
       "        text-align: right;\n",
       "    }\n",
       "</style>\n",
       "<table border=\"1\" class=\"dataframe\">\n",
       "  <thead>\n",
       "    <tr style=\"text-align: right;\">\n",
       "      <th></th>\n",
       "      <th>id</th>\n",
       "      <th>name</th>\n",
       "      <th>license_id</th>\n",
       "      <th>address_number</th>\n",
       "      <th>address_street_name</th>\n",
       "      <th>ssn</th>\n",
       "    </tr>\n",
       "  </thead>\n",
       "  <tbody>\n",
       "    <tr>\n",
       "      <th>0</th>\n",
       "      <td>14887</td>\n",
       "      <td>Morty Schapiro</td>\n",
       "      <td>118009</td>\n",
       "      <td>4919</td>\n",
       "      <td>Northwestern Dr</td>\n",
       "      <td>111564949</td>\n",
       "    </tr>\n",
       "  </tbody>\n",
       "</table>\n",
       "</div>"
      ],
      "text/plain": [
       "      id            name  license_id  address_number address_street_name  \\\n",
       "0  14887  Morty Schapiro      118009            4919     Northwestern Dr   \n",
       "\n",
       "         ssn  \n",
       "0  111564949  "
      ]
     },
     "execution_count": 10,
     "metadata": {},
     "output_type": "execute_result"
    }
   ],
   "source": [
    "pd.read_sql_query(\"SELECT * FROM person WHERE address_street_name = 'Northwestern Dr' ORDER BY address_number DESC LIMIT 1\", con)"
   ]
  },
  {
   "cell_type": "code",
   "execution_count": 11,
   "id": "1628d37c",
   "metadata": {
    "execution": {
     "iopub.execute_input": "2022-10-12T18:04:08.913558Z",
     "iopub.status.busy": "2022-10-12T18:04:08.913154Z",
     "iopub.status.idle": "2022-10-12T18:04:08.926726Z",
     "shell.execute_reply": "2022-10-12T18:04:08.925920Z"
    },
    "papermill": {
     "duration": 0.024279,
     "end_time": "2022-10-12T18:04:08.928927",
     "exception": false,
     "start_time": "2022-10-12T18:04:08.904648",
     "status": "completed"
    },
    "scrolled": true,
    "tags": []
   },
   "outputs": [
    {
     "data": {
      "text/html": [
       "<div>\n",
       "<style scoped>\n",
       "    .dataframe tbody tr th:only-of-type {\n",
       "        vertical-align: middle;\n",
       "    }\n",
       "\n",
       "    .dataframe tbody tr th {\n",
       "        vertical-align: top;\n",
       "    }\n",
       "\n",
       "    .dataframe thead th {\n",
       "        text-align: right;\n",
       "    }\n",
       "</style>\n",
       "<table border=\"1\" class=\"dataframe\">\n",
       "  <thead>\n",
       "    <tr style=\"text-align: right;\">\n",
       "      <th></th>\n",
       "      <th>person_id</th>\n",
       "      <th>transcript</th>\n",
       "    </tr>\n",
       "  </thead>\n",
       "  <tbody>\n",
       "    <tr>\n",
       "      <th>0</th>\n",
       "      <td>14887</td>\n",
       "      <td>I heard a gunshot and then saw a man run out. He had a \"Get Fit Now Gym\" bag. The membership number on the bag started with \"48Z\". Only gold members have those bags. The man got into a car with a plate that included \"H42W\".</td>\n",
       "    </tr>\n",
       "  </tbody>\n",
       "</table>\n",
       "</div>"
      ],
      "text/plain": [
       "   person_id  \\\n",
       "0      14887   \n",
       "\n",
       "                                                                                                                                                                                                                        transcript  \n",
       "0  I heard a gunshot and then saw a man run out. He had a \"Get Fit Now Gym\" bag. The membership number on the bag started with \"48Z\". Only gold members have those bags. The man got into a car with a plate that included \"H42W\".  "
      ]
     },
     "execution_count": 11,
     "metadata": {},
     "output_type": "execute_result"
    }
   ],
   "source": [
    "pd.read_sql_query(\"SELECT * FROM interview WHERE person_id = 14887\", con)"
   ]
  },
  {
   "cell_type": "code",
   "execution_count": 12,
   "id": "bc47b6bd",
   "metadata": {
    "execution": {
     "iopub.execute_input": "2022-10-12T18:04:08.945822Z",
     "iopub.status.busy": "2022-10-12T18:04:08.944910Z",
     "iopub.status.idle": "2022-10-12T18:04:08.964027Z",
     "shell.execute_reply": "2022-10-12T18:04:08.963244Z"
    },
    "papermill": {
     "duration": 0.029955,
     "end_time": "2022-10-12T18:04:08.966273",
     "exception": false,
     "start_time": "2022-10-12T18:04:08.936318",
     "status": "completed"
    },
    "tags": []
   },
   "outputs": [
    {
     "data": {
      "text/html": [
       "<div>\n",
       "<style scoped>\n",
       "    .dataframe tbody tr th:only-of-type {\n",
       "        vertical-align: middle;\n",
       "    }\n",
       "\n",
       "    .dataframe tbody tr th {\n",
       "        vertical-align: top;\n",
       "    }\n",
       "\n",
       "    .dataframe thead th {\n",
       "        text-align: right;\n",
       "    }\n",
       "</style>\n",
       "<table border=\"1\" class=\"dataframe\">\n",
       "  <thead>\n",
       "    <tr style=\"text-align: right;\">\n",
       "      <th></th>\n",
       "      <th>id</th>\n",
       "      <th>person_id</th>\n",
       "      <th>name</th>\n",
       "      <th>membership_start_date</th>\n",
       "      <th>membership_status</th>\n",
       "    </tr>\n",
       "  </thead>\n",
       "  <tbody>\n",
       "    <tr>\n",
       "      <th>0</th>\n",
       "      <td>48Z55</td>\n",
       "      <td>67318</td>\n",
       "      <td>Jeremy Bowers</td>\n",
       "      <td>20160101</td>\n",
       "      <td>gold</td>\n",
       "    </tr>\n",
       "  </tbody>\n",
       "</table>\n",
       "</div>"
      ],
      "text/plain": [
       "      id  person_id           name  membership_start_date membership_status\n",
       "0  48Z55      67318  Jeremy Bowers               20160101              gold"
      ]
     },
     "execution_count": 12,
     "metadata": {},
     "output_type": "execute_result"
    }
   ],
   "source": [
    "pd.read_sql_query(\"SELECT * FROM get_fit_now_member WHERE id LIKE '48Z55'\", con) #Using list of members from first witness"
   ]
  },
  {
   "cell_type": "code",
   "execution_count": 13,
   "id": "16ed6829",
   "metadata": {
    "execution": {
     "iopub.execute_input": "2022-10-12T18:04:08.984147Z",
     "iopub.status.busy": "2022-10-12T18:04:08.983278Z",
     "iopub.status.idle": "2022-10-12T18:04:09.155881Z",
     "shell.execute_reply": "2022-10-12T18:04:09.154842Z"
    },
    "papermill": {
     "duration": 0.184641,
     "end_time": "2022-10-12T18:04:09.158711",
     "exception": false,
     "start_time": "2022-10-12T18:04:08.974070",
     "status": "completed"
    },
    "tags": []
   },
   "outputs": [
    {
     "data": {
      "text/html": [
       "<div>\n",
       "<style scoped>\n",
       "    .dataframe tbody tr th:only-of-type {\n",
       "        vertical-align: middle;\n",
       "    }\n",
       "\n",
       "    .dataframe tbody tr th {\n",
       "        vertical-align: top;\n",
       "    }\n",
       "\n",
       "    .dataframe thead th {\n",
       "        text-align: right;\n",
       "    }\n",
       "</style>\n",
       "<table border=\"1\" class=\"dataframe\">\n",
       "  <thead>\n",
       "    <tr style=\"text-align: right;\">\n",
       "      <th></th>\n",
       "      <th>id</th>\n",
       "      <th>age</th>\n",
       "      <th>height</th>\n",
       "      <th>eye_color</th>\n",
       "      <th>hair_color</th>\n",
       "      <th>gender</th>\n",
       "      <th>plate_number</th>\n",
       "      <th>car_make</th>\n",
       "      <th>car_model</th>\n",
       "    </tr>\n",
       "  </thead>\n",
       "  <tbody>\n",
       "    <tr>\n",
       "      <th>0</th>\n",
       "      <td>423327</td>\n",
       "      <td>30</td>\n",
       "      <td>70</td>\n",
       "      <td>brown</td>\n",
       "      <td>brown</td>\n",
       "      <td>male</td>\n",
       "      <td>0H42W2</td>\n",
       "      <td>Chevrolet</td>\n",
       "      <td>Spark LS</td>\n",
       "    </tr>\n",
       "    <tr>\n",
       "      <th>1</th>\n",
       "      <td>664760</td>\n",
       "      <td>21</td>\n",
       "      <td>71</td>\n",
       "      <td>black</td>\n",
       "      <td>black</td>\n",
       "      <td>male</td>\n",
       "      <td>4H42WR</td>\n",
       "      <td>Nissan</td>\n",
       "      <td>Altima</td>\n",
       "    </tr>\n",
       "  </tbody>\n",
       "</table>\n",
       "</div>"
      ],
      "text/plain": [
       "       id  age  height eye_color hair_color gender plate_number   car_make  \\\n",
       "0  423327   30      70     brown      brown   male       0H42W2  Chevrolet   \n",
       "1  664760   21      71     black      black   male       4H42WR     Nissan   \n",
       "\n",
       "  car_model  \n",
       "0  Spark LS  \n",
       "1    Altima  "
      ]
     },
     "execution_count": 13,
     "metadata": {},
     "output_type": "execute_result"
    }
   ],
   "source": [
    "pd.read_sql_query(\"SELECT * FROM drivers_license WHERE plate_number LIKE '%H42W%' AND gender = 'male'\", con)"
   ]
  },
  {
   "cell_type": "code",
   "execution_count": 14,
   "id": "783b4f88",
   "metadata": {
    "execution": {
     "iopub.execute_input": "2022-10-12T18:04:09.176049Z",
     "iopub.status.busy": "2022-10-12T18:04:09.175643Z",
     "iopub.status.idle": "2022-10-12T18:04:09.192052Z",
     "shell.execute_reply": "2022-10-12T18:04:09.190636Z"
    },
    "papermill": {
     "duration": 0.027804,
     "end_time": "2022-10-12T18:04:09.194388",
     "exception": false,
     "start_time": "2022-10-12T18:04:09.166584",
     "status": "completed"
    },
    "tags": []
   },
   "outputs": [
    {
     "data": {
      "text/html": [
       "<div>\n",
       "<style scoped>\n",
       "    .dataframe tbody tr th:only-of-type {\n",
       "        vertical-align: middle;\n",
       "    }\n",
       "\n",
       "    .dataframe tbody tr th {\n",
       "        vertical-align: top;\n",
       "    }\n",
       "\n",
       "    .dataframe thead th {\n",
       "        text-align: right;\n",
       "    }\n",
       "</style>\n",
       "<table border=\"1\" class=\"dataframe\">\n",
       "  <thead>\n",
       "    <tr style=\"text-align: right;\">\n",
       "      <th></th>\n",
       "      <th>id</th>\n",
       "      <th>name</th>\n",
       "      <th>license_id</th>\n",
       "      <th>address_number</th>\n",
       "      <th>address_street_name</th>\n",
       "      <th>ssn</th>\n",
       "    </tr>\n",
       "  </thead>\n",
       "  <tbody>\n",
       "    <tr>\n",
       "      <th>0</th>\n",
       "      <td>51739</td>\n",
       "      <td>Tushar Chandra</td>\n",
       "      <td>664760</td>\n",
       "      <td>312</td>\n",
       "      <td>Phi St</td>\n",
       "      <td>137882671</td>\n",
       "    </tr>\n",
       "    <tr>\n",
       "      <th>1</th>\n",
       "      <td>67318</td>\n",
       "      <td>Jeremy Bowers</td>\n",
       "      <td>423327</td>\n",
       "      <td>530</td>\n",
       "      <td>Washington Pl, Apt 3A</td>\n",
       "      <td>871539279</td>\n",
       "    </tr>\n",
       "  </tbody>\n",
       "</table>\n",
       "</div>"
      ],
      "text/plain": [
       "      id            name  license_id  address_number    address_street_name  \\\n",
       "0  51739  Tushar Chandra      664760             312                 Phi St   \n",
       "1  67318   Jeremy Bowers      423327             530  Washington Pl, Apt 3A   \n",
       "\n",
       "         ssn  \n",
       "0  137882671  \n",
       "1  871539279  "
      ]
     },
     "execution_count": 14,
     "metadata": {},
     "output_type": "execute_result"
    }
   ],
   "source": [
    "pd.read_sql_query(\"SELECT * FROM person WHERE license_id = 423327 OR license_id = 664760\", con)"
   ]
  },
  {
   "cell_type": "code",
   "execution_count": 15,
   "id": "98fbb9ad",
   "metadata": {
    "execution": {
     "iopub.execute_input": "2022-10-12T18:04:09.211472Z",
     "iopub.status.busy": "2022-10-12T18:04:09.211073Z",
     "iopub.status.idle": "2022-10-12T18:04:09.224319Z",
     "shell.execute_reply": "2022-10-12T18:04:09.223533Z"
    },
    "papermill": {
     "duration": 0.024114,
     "end_time": "2022-10-12T18:04:09.226359",
     "exception": false,
     "start_time": "2022-10-12T18:04:09.202245",
     "status": "completed"
    },
    "tags": []
   },
   "outputs": [
    {
     "data": {
      "text/html": [
       "<div>\n",
       "<style scoped>\n",
       "    .dataframe tbody tr th:only-of-type {\n",
       "        vertical-align: middle;\n",
       "    }\n",
       "\n",
       "    .dataframe tbody tr th {\n",
       "        vertical-align: top;\n",
       "    }\n",
       "\n",
       "    .dataframe thead th {\n",
       "        text-align: right;\n",
       "    }\n",
       "</style>\n",
       "<table border=\"1\" class=\"dataframe\">\n",
       "  <thead>\n",
       "    <tr style=\"text-align: right;\">\n",
       "      <th></th>\n",
       "      <th>person_id</th>\n",
       "      <th>transcript</th>\n",
       "    </tr>\n",
       "  </thead>\n",
       "  <tbody>\n",
       "    <tr>\n",
       "      <th>0</th>\n",
       "      <td>67318</td>\n",
       "      <td>I was hired by a woman with a lot of money. I don't know her name but I know she's around 5'5\" (65\") or 5'7\" (67\"). She has red hair and she drives a Tesla Model S. I know that she attended the SQL Symphony Concert 3 times in December 2017.\\n</td>\n",
       "    </tr>\n",
       "  </tbody>\n",
       "</table>\n",
       "</div>"
      ],
      "text/plain": [
       "   person_id  \\\n",
       "0      67318   \n",
       "\n",
       "                                                                                                                                                                                                                                           transcript  \n",
       "0  I was hired by a woman with a lot of money. I don't know her name but I know she's around 5'5\" (65\") or 5'7\" (67\"). She has red hair and she drives a Tesla Model S. I know that she attended the SQL Symphony Concert 3 times in December 2017.\\n  "
      ]
     },
     "execution_count": 15,
     "metadata": {},
     "output_type": "execute_result"
    }
   ],
   "source": [
    "pd.read_sql_query(\"SELECT * FROM interview WHERE person_id = 67318\", con)"
   ]
  },
  {
   "cell_type": "markdown",
   "id": "6df6b6ef",
   "metadata": {
    "papermill": {
     "duration": 0.008521,
     "end_time": "2022-10-12T18:04:09.243367",
     "exception": false,
     "start_time": "2022-10-12T18:04:09.234846",
     "status": "completed"
    },
    "tags": []
   },
   "source": [
    "### Jeremy Bowers, and he is a tattletale."
   ]
  },
  {
   "cell_type": "code",
   "execution_count": 16,
   "id": "3c4bd955",
   "metadata": {
    "execution": {
     "iopub.execute_input": "2022-10-12T18:04:09.261316Z",
     "iopub.status.busy": "2022-10-12T18:04:09.260933Z",
     "iopub.status.idle": "2022-10-12T18:04:09.280339Z",
     "shell.execute_reply": "2022-10-12T18:04:09.278955Z"
    },
    "papermill": {
     "duration": 0.03138,
     "end_time": "2022-10-12T18:04:09.282867",
     "exception": false,
     "start_time": "2022-10-12T18:04:09.251487",
     "status": "completed"
    },
    "tags": []
   },
   "outputs": [
    {
     "data": {
      "text/html": [
       "<div>\n",
       "<style scoped>\n",
       "    .dataframe tbody tr th:only-of-type {\n",
       "        vertical-align: middle;\n",
       "    }\n",
       "\n",
       "    .dataframe tbody tr th {\n",
       "        vertical-align: top;\n",
       "    }\n",
       "\n",
       "    .dataframe thead th {\n",
       "        text-align: right;\n",
       "    }\n",
       "</style>\n",
       "<table border=\"1\" class=\"dataframe\">\n",
       "  <thead>\n",
       "    <tr style=\"text-align: right;\">\n",
       "      <th></th>\n",
       "      <th>id</th>\n",
       "      <th>age</th>\n",
       "      <th>height</th>\n",
       "      <th>eye_color</th>\n",
       "      <th>hair_color</th>\n",
       "      <th>gender</th>\n",
       "      <th>plate_number</th>\n",
       "      <th>car_make</th>\n",
       "      <th>car_model</th>\n",
       "    </tr>\n",
       "  </thead>\n",
       "  <tbody>\n",
       "    <tr>\n",
       "      <th>0</th>\n",
       "      <td>202298</td>\n",
       "      <td>68</td>\n",
       "      <td>66</td>\n",
       "      <td>green</td>\n",
       "      <td>red</td>\n",
       "      <td>female</td>\n",
       "      <td>500123</td>\n",
       "      <td>Tesla</td>\n",
       "      <td>Model S</td>\n",
       "    </tr>\n",
       "    <tr>\n",
       "      <th>1</th>\n",
       "      <td>291182</td>\n",
       "      <td>65</td>\n",
       "      <td>66</td>\n",
       "      <td>blue</td>\n",
       "      <td>red</td>\n",
       "      <td>female</td>\n",
       "      <td>08CM64</td>\n",
       "      <td>Tesla</td>\n",
       "      <td>Model S</td>\n",
       "    </tr>\n",
       "    <tr>\n",
       "      <th>2</th>\n",
       "      <td>918773</td>\n",
       "      <td>48</td>\n",
       "      <td>65</td>\n",
       "      <td>black</td>\n",
       "      <td>red</td>\n",
       "      <td>female</td>\n",
       "      <td>917UU3</td>\n",
       "      <td>Tesla</td>\n",
       "      <td>Model S</td>\n",
       "    </tr>\n",
       "  </tbody>\n",
       "</table>\n",
       "</div>"
      ],
      "text/plain": [
       "       id  age  height eye_color hair_color  gender plate_number car_make  \\\n",
       "0  202298   68      66     green        red  female       500123    Tesla   \n",
       "1  291182   65      66      blue        red  female       08CM64    Tesla   \n",
       "2  918773   48      65     black        red  female       917UU3    Tesla   \n",
       "\n",
       "  car_model  \n",
       "0   Model S  \n",
       "1   Model S  \n",
       "2   Model S  "
      ]
     },
     "execution_count": 16,
     "metadata": {},
     "output_type": "execute_result"
    }
   ],
   "source": [
    "pd.read_sql_query(\"SELECT * FROM drivers_license WHERE car_model LIKE '%model%' AND gender = 'female' AND hair_color = 'red' and height BETWEEN 65 AND 67\", con)"
   ]
  },
  {
   "cell_type": "code",
   "execution_count": 17,
   "id": "2457e91e",
   "metadata": {
    "execution": {
     "iopub.execute_input": "2022-10-12T18:04:09.302210Z",
     "iopub.status.busy": "2022-10-12T18:04:09.301817Z",
     "iopub.status.idle": "2022-10-12T18:04:09.369123Z",
     "shell.execute_reply": "2022-10-12T18:04:09.368290Z"
    },
    "papermill": {
     "duration": 0.07958,
     "end_time": "2022-10-12T18:04:09.371477",
     "exception": false,
     "start_time": "2022-10-12T18:04:09.291897",
     "status": "completed"
    },
    "tags": []
   },
   "outputs": [
    {
     "data": {
      "text/html": [
       "<div>\n",
       "<style scoped>\n",
       "    .dataframe tbody tr th:only-of-type {\n",
       "        vertical-align: middle;\n",
       "    }\n",
       "\n",
       "    .dataframe tbody tr th {\n",
       "        vertical-align: top;\n",
       "    }\n",
       "\n",
       "    .dataframe thead th {\n",
       "        text-align: right;\n",
       "    }\n",
       "</style>\n",
       "<table border=\"1\" class=\"dataframe\">\n",
       "  <thead>\n",
       "    <tr style=\"text-align: right;\">\n",
       "      <th></th>\n",
       "      <th>person_id</th>\n",
       "      <th>event_id</th>\n",
       "      <th>event_name</th>\n",
       "      <th>date</th>\n",
       "      <th>Count</th>\n",
       "    </tr>\n",
       "  </thead>\n",
       "  <tbody>\n",
       "    <tr>\n",
       "      <th>0</th>\n",
       "      <td>24556</td>\n",
       "      <td>1143</td>\n",
       "      <td>SQL Symphony Concert</td>\n",
       "      <td>20171207</td>\n",
       "      <td>3</td>\n",
       "    </tr>\n",
       "    <tr>\n",
       "      <th>1</th>\n",
       "      <td>99716</td>\n",
       "      <td>1143</td>\n",
       "      <td>SQL Symphony Concert</td>\n",
       "      <td>20171206</td>\n",
       "      <td>3</td>\n",
       "    </tr>\n",
       "  </tbody>\n",
       "</table>\n",
       "</div>"
      ],
      "text/plain": [
       "   person_id  event_id            event_name      date  Count\n",
       "0      24556      1143  SQL Symphony Concert  20171207      3\n",
       "1      99716      1143  SQL Symphony Concert  20171206      3"
      ]
     },
     "execution_count": 17,
     "metadata": {},
     "output_type": "execute_result"
    }
   ],
   "source": [
    "pd.read_sql_query(\"SELECT *, COUNT(person_id) AS 'Count' FROM facebook_event_checkin WHERE event_name = 'SQL Symphony Concert' AND date BETWEEN 20171201 AND 20171231 GROUP BY person_id HAVING Count(*) = 3\", con)"
   ]
  },
  {
   "cell_type": "code",
   "execution_count": 18,
   "id": "4b33a6fa",
   "metadata": {
    "execution": {
     "iopub.execute_input": "2022-10-12T18:04:09.390152Z",
     "iopub.status.busy": "2022-10-12T18:04:09.389769Z",
     "iopub.status.idle": "2022-10-12T18:04:09.408080Z",
     "shell.execute_reply": "2022-10-12T18:04:09.406965Z"
    },
    "papermill": {
     "duration": 0.030232,
     "end_time": "2022-10-12T18:04:09.410414",
     "exception": false,
     "start_time": "2022-10-12T18:04:09.380182",
     "status": "completed"
    },
    "tags": []
   },
   "outputs": [
    {
     "data": {
      "text/html": [
       "<div>\n",
       "<style scoped>\n",
       "    .dataframe tbody tr th:only-of-type {\n",
       "        vertical-align: middle;\n",
       "    }\n",
       "\n",
       "    .dataframe tbody tr th {\n",
       "        vertical-align: top;\n",
       "    }\n",
       "\n",
       "    .dataframe thead th {\n",
       "        text-align: right;\n",
       "    }\n",
       "</style>\n",
       "<table border=\"1\" class=\"dataframe\">\n",
       "  <thead>\n",
       "    <tr style=\"text-align: right;\">\n",
       "      <th></th>\n",
       "      <th>id</th>\n",
       "      <th>name</th>\n",
       "      <th>license_id</th>\n",
       "      <th>address_number</th>\n",
       "      <th>address_street_name</th>\n",
       "      <th>ssn</th>\n",
       "    </tr>\n",
       "  </thead>\n",
       "  <tbody>\n",
       "    <tr>\n",
       "      <th>0</th>\n",
       "      <td>24556</td>\n",
       "      <td>Bryan Pardo</td>\n",
       "      <td>101191</td>\n",
       "      <td>703</td>\n",
       "      <td>Machine Ln</td>\n",
       "      <td>816663882</td>\n",
       "    </tr>\n",
       "    <tr>\n",
       "      <th>1</th>\n",
       "      <td>99716</td>\n",
       "      <td>Miranda Priestly</td>\n",
       "      <td>202298</td>\n",
       "      <td>1883</td>\n",
       "      <td>Golden Ave</td>\n",
       "      <td>987756388</td>\n",
       "    </tr>\n",
       "  </tbody>\n",
       "</table>\n",
       "</div>"
      ],
      "text/plain": [
       "      id              name  license_id  address_number address_street_name  \\\n",
       "0  24556       Bryan Pardo      101191             703          Machine Ln   \n",
       "1  99716  Miranda Priestly      202298            1883          Golden Ave   \n",
       "\n",
       "         ssn  \n",
       "0  816663882  \n",
       "1  987756388  "
      ]
     },
     "execution_count": 18,
     "metadata": {},
     "output_type": "execute_result"
    }
   ],
   "source": [
    "pd.read_sql_query(\"SELECT * FROM person WHERE id = 24556 OR id = 99716\", con)"
   ]
  },
  {
   "cell_type": "code",
   "execution_count": 19,
   "id": "d26f66dd",
   "metadata": {
    "execution": {
     "iopub.execute_input": "2022-10-12T18:04:09.429314Z",
     "iopub.status.busy": "2022-10-12T18:04:09.428907Z",
     "iopub.status.idle": "2022-10-12T18:04:09.444552Z",
     "shell.execute_reply": "2022-10-12T18:04:09.443455Z"
    },
    "papermill": {
     "duration": 0.027742,
     "end_time": "2022-10-12T18:04:09.446778",
     "exception": false,
     "start_time": "2022-10-12T18:04:09.419036",
     "status": "completed"
    },
    "tags": []
   },
   "outputs": [
    {
     "data": {
      "text/html": [
       "<div>\n",
       "<style scoped>\n",
       "    .dataframe tbody tr th:only-of-type {\n",
       "        vertical-align: middle;\n",
       "    }\n",
       "\n",
       "    .dataframe tbody tr th {\n",
       "        vertical-align: top;\n",
       "    }\n",
       "\n",
       "    .dataframe thead th {\n",
       "        text-align: right;\n",
       "    }\n",
       "</style>\n",
       "<table border=\"1\" class=\"dataframe\">\n",
       "  <thead>\n",
       "    <tr style=\"text-align: right;\">\n",
       "      <th></th>\n",
       "      <th>id</th>\n",
       "      <th>name</th>\n",
       "      <th>license_id</th>\n",
       "      <th>address_number</th>\n",
       "      <th>address_street_name</th>\n",
       "      <th>ssn</th>\n",
       "    </tr>\n",
       "  </thead>\n",
       "  <tbody>\n",
       "    <tr>\n",
       "      <th>0</th>\n",
       "      <td>99716</td>\n",
       "      <td>Miranda Priestly</td>\n",
       "      <td>202298</td>\n",
       "      <td>1883</td>\n",
       "      <td>Golden Ave</td>\n",
       "      <td>987756388</td>\n",
       "    </tr>\n",
       "  </tbody>\n",
       "</table>\n",
       "</div>"
      ],
      "text/plain": [
       "      id              name  license_id  address_number address_street_name  \\\n",
       "0  99716  Miranda Priestly      202298            1883          Golden Ave   \n",
       "\n",
       "         ssn  \n",
       "0  987756388  "
      ]
     },
     "execution_count": 19,
     "metadata": {},
     "output_type": "execute_result"
    }
   ],
   "source": [
    "suspect_info = pd.read_sql_query(\"SELECT * FROM person WHERE id = 99716\", con)\n",
    "suspect_info"
   ]
  },
  {
   "cell_type": "code",
   "execution_count": 20,
   "id": "b720bdc3",
   "metadata": {
    "execution": {
     "iopub.execute_input": "2022-10-12T18:04:09.466830Z",
     "iopub.status.busy": "2022-10-12T18:04:09.466168Z",
     "iopub.status.idle": "2022-10-12T18:04:09.470008Z",
     "shell.execute_reply": "2022-10-12T18:04:09.469170Z"
    },
    "papermill": {
     "duration": 0.016191,
     "end_time": "2022-10-12T18:04:09.472042",
     "exception": false,
     "start_time": "2022-10-12T18:04:09.455851",
     "status": "completed"
    },
    "tags": []
   },
   "outputs": [],
   "source": [
    "#suspect_name = suspect_info.loc[:,'name'].to_list()\n",
    "#cur.execute(\"INSERT INTO solution VALUES (1, ?);\", suspect_name)"
   ]
  },
  {
   "cell_type": "code",
   "execution_count": 21,
   "id": "00458646",
   "metadata": {
    "execution": {
     "iopub.execute_input": "2022-10-12T18:04:09.491839Z",
     "iopub.status.busy": "2022-10-12T18:04:09.491189Z",
     "iopub.status.idle": "2022-10-12T18:04:09.513625Z",
     "shell.execute_reply": "2022-10-12T18:04:09.512562Z"
    },
    "papermill": {
     "duration": 0.035006,
     "end_time": "2022-10-12T18:04:09.515877",
     "exception": false,
     "start_time": "2022-10-12T18:04:09.480871",
     "status": "completed"
    },
    "tags": []
   },
   "outputs": [
    {
     "data": {
      "text/html": [
       "<div>\n",
       "<style scoped>\n",
       "    .dataframe tbody tr th:only-of-type {\n",
       "        vertical-align: middle;\n",
       "    }\n",
       "\n",
       "    .dataframe tbody tr th {\n",
       "        vertical-align: top;\n",
       "    }\n",
       "\n",
       "    .dataframe thead th {\n",
       "        text-align: right;\n",
       "    }\n",
       "</style>\n",
       "<table border=\"1\" class=\"dataframe\">\n",
       "  <thead>\n",
       "    <tr style=\"text-align: right;\">\n",
       "      <th></th>\n",
       "      <th>value</th>\n",
       "    </tr>\n",
       "  </thead>\n",
       "  <tbody>\n",
       "  </tbody>\n",
       "</table>\n",
       "</div>"
      ],
      "text/plain": [
       "Empty DataFrame\n",
       "Columns: [value]\n",
       "Index: []"
      ]
     },
     "execution_count": 21,
     "metadata": {},
     "output_type": "execute_result"
    }
   ],
   "source": [
    "pd.read_sql_query(\" SELECT value FROM Solution;\", con)"
   ]
  },
  {
   "cell_type": "markdown",
   "id": "a0271f4d",
   "metadata": {
    "papermill": {
     "duration": 0.008859,
     "end_time": "2022-10-12T18:04:09.533790",
     "exception": false,
     "start_time": "2022-10-12T18:04:09.524931",
     "status": "completed"
    },
    "tags": []
   },
   "source": [
    "### File is read only, to ge the answers we have to follow this link - [SQL Murder Mystery](http://mystery.knightlab.com/#experienced) - and insert the name of our suspect.\n",
    "\n",
    "Outcome - The murder is **Jeremy Bowers** and he was hired by **Miranda Priestly**."
   ]
  },
  {
   "cell_type": "code",
   "execution_count": null,
   "id": "c28d6903",
   "metadata": {
    "papermill": {
     "duration": 0.008421,
     "end_time": "2022-10-12T18:04:09.550965",
     "exception": false,
     "start_time": "2022-10-12T18:04:09.542544",
     "status": "completed"
    },
    "tags": []
   },
   "outputs": [],
   "source": []
  }
 ],
 "metadata": {
  "kernelspec": {
   "display_name": "Python 3",
   "language": "python",
   "name": "python3"
  },
  "language_info": {
   "codemirror_mode": {
    "name": "ipython",
    "version": 3
   },
   "file_extension": ".py",
   "mimetype": "text/x-python",
   "name": "python",
   "nbconvert_exporter": "python",
   "pygments_lexer": "ipython3",
   "version": "3.7.12"
  },
  "papermill": {
   "default_parameters": {},
   "duration": 11.076234,
   "end_time": "2022-10-12T18:04:10.180283",
   "environment_variables": {},
   "exception": null,
   "input_path": "__notebook__.ipynb",
   "output_path": "__notebook__.ipynb",
   "parameters": {},
   "start_time": "2022-10-12T18:03:59.104049",
   "version": "2.3.4"
  }
 },
 "nbformat": 4,
 "nbformat_minor": 5
}
